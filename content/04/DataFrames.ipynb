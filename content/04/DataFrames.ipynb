{
 "cells": [
  {
   "cell_type": "markdown",
   "metadata": {},
   "source": [
    "# DataFrames\n",
    "\n",
    "The `DataFrame` is a type of data structure in Python which is widely-used in Data Science, and provided by the <a href=\"https://pandas.pydata.org/\" rel=\"noopener\" target=\"_blank\">`pandas`</a> data analysis and manipulation library.\n",
    "\n",
    "`DataFrames` are *collections* like `lists`. But, while `lists` *allow* you to collect elements which are themselves `lists`, `DataFrames` are built expressly for the purpose of manipulating such data easily and efficiently. This structure is \"tabular\" – like a spreadsheet – and also considered \"two-dimensional.\" Its dimensions are commonly:\n",
    "\n",
    "**a sequence of *columns***:\n",
    ": each column represents the values of a single *feature* of our data set\n",
    "\n",
    "**a sequence of *rows***:\n",
    ": each row represents the values of all of the features of a single *individual* element of our data"
   ]
  },
  {
   "cell_type": "markdown",
   "metadata": {},
   "source": [
    "## Construction\n",
    "\n",
    "We began to consider this sort of data in [Sequences](/03/3/3/Sequences.html#other-lists), with the distances of planets from our sun. Let's expand on this example with the below data, adding the planets' masses, densities and gravities."
   ]
  },
  {
   "cell_type": "code",
   "execution_count": 1,
   "metadata": {},
   "outputs": [
    {
     "data": {
      "text/plain": [
       "[['Mercury', 57.9, 0.33, 5427.0, 3.7],\n",
       " ['Venus', 108.2, 4.87, 5243.0, 8.9],\n",
       " ['Earth', 149.6, 5.97, 5514.0, 9.8],\n",
       " ['Mars', 227.9, 0.642, 3933.0, 3.7],\n",
       " ['Jupiter', 778.6, 1898.0, 1326.0, 23.1],\n",
       " ['Saturn', 1433.5, 568.0, 687.0, 9.0],\n",
       " ['Uranus', 2872.5, 86.8, 1271.0, 8.7],\n",
       " ['Neptune', 4495.1, 102.0, 1638.0, 11.0]]"
      ]
     },
     "execution_count": 1,
     "metadata": {},
     "output_type": "execute_result"
    }
   ],
   "source": [
    "planets_features = [\n",
    "    'name',                # familiar name\n",
    "    'solar_distance_km_6', # distance from sun: 10**6 km\n",
    "    'mass_kg_24',          # absolute mass: 10**24 kg\n",
    "    'density_kg_m3',       # density: kg/m**3\n",
    "    'gravity_m_s2',        # gravity: m/s**2\n",
    "]\n",
    "\n",
    "planets_data = [\n",
    "    ['Mercury', 57.9, 0.33, 5427.0, 3.7],\n",
    "    ['Venus', 108.2, 4.87, 5243.0, 8.9],\n",
    "    ['Earth', 149.6, 5.97, 5514.0, 9.8],\n",
    "    ['Mars', 227.9, 0.642, 3933.0, 3.7],\n",
    "    ['Jupiter', 778.6, 1898.0, 1326.0, 23.1],\n",
    "    ['Saturn', 1433.5, 568.0, 687.0, 9.0],\n",
    "    ['Uranus', 2872.5, 86.8, 1271.0, 8.7],\n",
    "    ['Neptune', 4495.1, 102.0, 1638.0, 11.0]\n",
    "]\n",
    "\n",
    "planets_data"
   ]
  },
  {
   "cell_type": "markdown",
   "metadata": {},
   "source": [
    "Now let's construct a `DataFrame` for these data.\n",
    "\n",
    "First, we'll have to ensure that the <a href=\"https://pandas.pydata.org/pandas-docs/stable/getting_started/install.html\" target=\"_blank\" rel=\"noopener\">pandas library is installed</a>.\n",
    "\n",
    "Then, we can tell Python to make `pandas` available to us using an `import` statement. For example:\n",
    "\n",
    "    import pandas\n",
    "\n",
    "Having done so, the `DataFrame` type would be available as: `pandas.DataFrame`.\n",
    "\n",
    "That is, unlike with the built-in `list`, we would refer to it as \"under\" the name `pandas`, with a dot between the two names.\n",
    "\n",
    "Or, we could import just `DataFrame`, such that it's available as just `DataFrame`, without the rigmarole:\n",
    "\n",
    "    from pandas import DataFrame\n",
    "\n",
    "However, we'll be using `pandas` a lot! And not *just* `DataFrame`. Following a common convention, we'll tell Python to assign the library module the name `pd`."
   ]
  },
  {
   "cell_type": "code",
   "execution_count": 2,
   "metadata": {},
   "outputs": [
    {
     "data": {
      "text/html": [
       "<div>\n",
       "<style scoped>\n",
       "    .dataframe tbody tr th:only-of-type {\n",
       "        vertical-align: middle;\n",
       "    }\n",
       "\n",
       "    .dataframe tbody tr th {\n",
       "        vertical-align: top;\n",
       "    }\n",
       "\n",
       "    .dataframe thead th {\n",
       "        text-align: right;\n",
       "    }\n",
       "</style>\n",
       "<table border=\"1\" class=\"dataframe\">\n",
       "  <thead>\n",
       "    <tr style=\"text-align: right;\">\n",
       "      <th></th>\n",
       "      <th>0</th>\n",
       "      <th>1</th>\n",
       "      <th>2</th>\n",
       "      <th>3</th>\n",
       "      <th>4</th>\n",
       "    </tr>\n",
       "  </thead>\n",
       "  <tbody>\n",
       "    <tr>\n",
       "      <td>0</td>\n",
       "      <td>Mercury</td>\n",
       "      <td>57.9</td>\n",
       "      <td>0.330</td>\n",
       "      <td>5427.0</td>\n",
       "      <td>3.7</td>\n",
       "    </tr>\n",
       "    <tr>\n",
       "      <td>1</td>\n",
       "      <td>Venus</td>\n",
       "      <td>108.2</td>\n",
       "      <td>4.870</td>\n",
       "      <td>5243.0</td>\n",
       "      <td>8.9</td>\n",
       "    </tr>\n",
       "    <tr>\n",
       "      <td>2</td>\n",
       "      <td>Earth</td>\n",
       "      <td>149.6</td>\n",
       "      <td>5.970</td>\n",
       "      <td>5514.0</td>\n",
       "      <td>9.8</td>\n",
       "    </tr>\n",
       "    <tr>\n",
       "      <td>3</td>\n",
       "      <td>Mars</td>\n",
       "      <td>227.9</td>\n",
       "      <td>0.642</td>\n",
       "      <td>3933.0</td>\n",
       "      <td>3.7</td>\n",
       "    </tr>\n",
       "    <tr>\n",
       "      <td>4</td>\n",
       "      <td>Jupiter</td>\n",
       "      <td>778.6</td>\n",
       "      <td>1898.000</td>\n",
       "      <td>1326.0</td>\n",
       "      <td>23.1</td>\n",
       "    </tr>\n",
       "    <tr>\n",
       "      <td>5</td>\n",
       "      <td>Saturn</td>\n",
       "      <td>1433.5</td>\n",
       "      <td>568.000</td>\n",
       "      <td>687.0</td>\n",
       "      <td>9.0</td>\n",
       "    </tr>\n",
       "    <tr>\n",
       "      <td>6</td>\n",
       "      <td>Uranus</td>\n",
       "      <td>2872.5</td>\n",
       "      <td>86.800</td>\n",
       "      <td>1271.0</td>\n",
       "      <td>8.7</td>\n",
       "    </tr>\n",
       "    <tr>\n",
       "      <td>7</td>\n",
       "      <td>Neptune</td>\n",
       "      <td>4495.1</td>\n",
       "      <td>102.000</td>\n",
       "      <td>1638.0</td>\n",
       "      <td>11.0</td>\n",
       "    </tr>\n",
       "  </tbody>\n",
       "</table>\n",
       "</div>"
      ],
      "text/plain": [
       "         0       1         2       3     4\n",
       "0  Mercury    57.9     0.330  5427.0   3.7\n",
       "1    Venus   108.2     4.870  5243.0   8.9\n",
       "2    Earth   149.6     5.970  5514.0   9.8\n",
       "3     Mars   227.9     0.642  3933.0   3.7\n",
       "4  Jupiter   778.6  1898.000  1326.0  23.1\n",
       "5   Saturn  1433.5   568.000   687.0   9.0\n",
       "6   Uranus  2872.5    86.800  1271.0   8.7\n",
       "7  Neptune  4495.1   102.000  1638.0  11.0"
      ]
     },
     "execution_count": 2,
     "metadata": {},
     "output_type": "execute_result"
    }
   ],
   "source": [
    "import pandas as pd\n",
    "\n",
    "planets = pd.DataFrame(planets_data)\n",
    "\n",
    "planets"
   ]
  },
  {
   "cell_type": "markdown",
   "metadata": {},
   "source": [
    "Above, we've:\n",
    "\n",
    "* imported the `pandas` library under the name `pd`\n",
    "* constructed a new `DataFrame` from our list-of-list data\n",
    "* assigned to the `DataFrame` the name `planets`\n",
    "\n",
    "And this presentation of our data is already looking more like a spreadsheet.\n",
    "\n",
    "However, there's something odd about the above. We're accustomed now to numbering elements of a sequence by their *offset* – 0, 1, 2, 3, … – and this works in this case for numbering our rows. But this isn't a useful scheme for labeling our columns. We'll make manipulation of this data easier, and avoid confusion about what these values represent, by defining useful column labels."
   ]
  },
  {
   "cell_type": "code",
   "execution_count": 3,
   "metadata": {},
   "outputs": [
    {
     "data": {
      "text/html": [
       "<div>\n",
       "<style scoped>\n",
       "    .dataframe tbody tr th:only-of-type {\n",
       "        vertical-align: middle;\n",
       "    }\n",
       "\n",
       "    .dataframe tbody tr th {\n",
       "        vertical-align: top;\n",
       "    }\n",
       "\n",
       "    .dataframe thead th {\n",
       "        text-align: right;\n",
       "    }\n",
       "</style>\n",
       "<table border=\"1\" class=\"dataframe\">\n",
       "  <thead>\n",
       "    <tr style=\"text-align: right;\">\n",
       "      <th></th>\n",
       "      <th>name</th>\n",
       "      <th>solar_distance_km_6</th>\n",
       "      <th>mass_kg_24</th>\n",
       "      <th>density_kg_m3</th>\n",
       "      <th>gravity_m_s2</th>\n",
       "    </tr>\n",
       "  </thead>\n",
       "  <tbody>\n",
       "    <tr>\n",
       "      <td>0</td>\n",
       "      <td>Mercury</td>\n",
       "      <td>57.9</td>\n",
       "      <td>0.330</td>\n",
       "      <td>5427.0</td>\n",
       "      <td>3.7</td>\n",
       "    </tr>\n",
       "    <tr>\n",
       "      <td>1</td>\n",
       "      <td>Venus</td>\n",
       "      <td>108.2</td>\n",
       "      <td>4.870</td>\n",
       "      <td>5243.0</td>\n",
       "      <td>8.9</td>\n",
       "    </tr>\n",
       "    <tr>\n",
       "      <td>2</td>\n",
       "      <td>Earth</td>\n",
       "      <td>149.6</td>\n",
       "      <td>5.970</td>\n",
       "      <td>5514.0</td>\n",
       "      <td>9.8</td>\n",
       "    </tr>\n",
       "    <tr>\n",
       "      <td>3</td>\n",
       "      <td>Mars</td>\n",
       "      <td>227.9</td>\n",
       "      <td>0.642</td>\n",
       "      <td>3933.0</td>\n",
       "      <td>3.7</td>\n",
       "    </tr>\n",
       "    <tr>\n",
       "      <td>4</td>\n",
       "      <td>Jupiter</td>\n",
       "      <td>778.6</td>\n",
       "      <td>1898.000</td>\n",
       "      <td>1326.0</td>\n",
       "      <td>23.1</td>\n",
       "    </tr>\n",
       "    <tr>\n",
       "      <td>5</td>\n",
       "      <td>Saturn</td>\n",
       "      <td>1433.5</td>\n",
       "      <td>568.000</td>\n",
       "      <td>687.0</td>\n",
       "      <td>9.0</td>\n",
       "    </tr>\n",
       "    <tr>\n",
       "      <td>6</td>\n",
       "      <td>Uranus</td>\n",
       "      <td>2872.5</td>\n",
       "      <td>86.800</td>\n",
       "      <td>1271.0</td>\n",
       "      <td>8.7</td>\n",
       "    </tr>\n",
       "    <tr>\n",
       "      <td>7</td>\n",
       "      <td>Neptune</td>\n",
       "      <td>4495.1</td>\n",
       "      <td>102.000</td>\n",
       "      <td>1638.0</td>\n",
       "      <td>11.0</td>\n",
       "    </tr>\n",
       "  </tbody>\n",
       "</table>\n",
       "</div>"
      ],
      "text/plain": [
       "      name  solar_distance_km_6  mass_kg_24  density_kg_m3  gravity_m_s2\n",
       "0  Mercury                 57.9       0.330         5427.0           3.7\n",
       "1    Venus                108.2       4.870         5243.0           8.9\n",
       "2    Earth                149.6       5.970         5514.0           9.8\n",
       "3     Mars                227.9       0.642         3933.0           3.7\n",
       "4  Jupiter                778.6    1898.000         1326.0          23.1\n",
       "5   Saturn               1433.5     568.000          687.0           9.0\n",
       "6   Uranus               2872.5      86.800         1271.0           8.7\n",
       "7  Neptune               4495.1     102.000         1638.0          11.0"
      ]
     },
     "execution_count": 3,
     "metadata": {},
     "output_type": "execute_result"
    }
   ],
   "source": [
    "planets = pd.DataFrame(planets_data, columns=planets_features)\n",
    "\n",
    "planets"
   ]
  },
  {
   "cell_type": "markdown",
   "metadata": {},
   "source": [
    "That's better!\n",
    "\n",
    "As we've seen with the `list`, (and the string), the `DataFrame` can be manipulated by functions and built-in operators. Moreover, these offer special-purpose functions which have been *bound* to their types – that is, *methods* – which are invoked with expressions of the form below:\n",
    "\n",
    "    name_of_dataframe.name_of_method(argument0, argument1, ..., keyword0=value0, ...)\n",
    "\n",
    "And, similar to methods, there are *attributes* and *properties*. These are values which are similarly bound to the `DataFrame`, but which need not be called:\n",
    "\n",
    "    name_of_dataframe.name_of_property\n",
    "\n",
    "Now we're ready to explore the dimensions our data."
   ]
  },
  {
   "cell_type": "markdown",
   "metadata": {},
   "source": [
    "## Features\n",
    "\n",
    "We assigned the following column names:"
   ]
  },
  {
   "cell_type": "code",
   "execution_count": 4,
   "metadata": {},
   "outputs": [
    {
     "data": {
      "text/plain": [
       "Index(['name', 'solar_distance_km_6', 'mass_kg_24', 'density_kg_m3',\n",
       "       'gravity_m_s2'],\n",
       "      dtype='object')"
      ]
     },
     "execution_count": 4,
     "metadata": {},
     "output_type": "execute_result"
    }
   ],
   "source": [
    "planets.columns"
   ]
  },
  {
   "cell_type": "markdown",
   "metadata": {},
   "source": [
    "`pandas` has constructed an `Index` for our columns. But we can get back our column list with the method `tolist()`:"
   ]
  },
  {
   "cell_type": "code",
   "execution_count": 5,
   "metadata": {},
   "outputs": [
    {
     "data": {
      "text/plain": [
       "['name', 'solar_distance_km_6', 'mass_kg_24', 'density_kg_m3', 'gravity_m_s2']"
      ]
     },
     "execution_count": 5,
     "metadata": {},
     "output_type": "execute_result"
    }
   ],
   "source": [
    "planets.columns.tolist()"
   ]
  },
  {
   "cell_type": "markdown",
   "metadata": {},
   "source": [
    "So let's take a look at the first dimension of our data, the *features*, such as `name`."
   ]
  },
  {
   "cell_type": "code",
   "execution_count": 6,
   "metadata": {},
   "outputs": [
    {
     "data": {
      "text/plain": [
       "0    Mercury\n",
       "1      Venus\n",
       "2      Earth\n",
       "3       Mars\n",
       "4    Jupiter\n",
       "5     Saturn\n",
       "6     Uranus\n",
       "7    Neptune\n",
       "Name: name, dtype: object"
      ]
     },
     "execution_count": 6,
     "metadata": {},
     "output_type": "execute_result"
    }
   ],
   "source": [
    "planets.name"
   ]
  },
  {
   "cell_type": "markdown",
   "metadata": {},
   "source": [
    "Above, we've extracted from our data a one-dimensional sequence of the names of the planets in our solar system – (even though there was no such list in our initial input data `planets_data`).\n",
    "\n",
    "This sequence is of another data type provided by `pandas`: the `Series`."
   ]
  },
  {
   "cell_type": "code",
   "execution_count": 7,
   "metadata": {},
   "outputs": [
    {
     "data": {
      "text/plain": [
       "pandas.core.series.Series"
      ]
     },
     "execution_count": 7,
     "metadata": {},
     "output_type": "execute_result"
    }
   ],
   "source": [
    "type(planets.name)"
   ]
  },
  {
   "cell_type": "markdown",
   "metadata": {},
   "source": [
    "We can do the same for the next column, representing the distances of these planets from the sun, in 10<sup>6</sup> km."
   ]
  },
  {
   "cell_type": "code",
   "execution_count": 8,
   "metadata": {},
   "outputs": [
    {
     "data": {
      "text/plain": [
       "0      57.9\n",
       "1     108.2\n",
       "2     149.6\n",
       "3     227.9\n",
       "4     778.6\n",
       "5    1433.5\n",
       "6    2872.5\n",
       "7    4495.1\n",
       "Name: solar_distance_km_6, dtype: float64"
      ]
     },
     "execution_count": 8,
     "metadata": {},
     "output_type": "execute_result"
    }
   ],
   "source": [
    "planets.solar_distance_km_6"
   ]
  },
  {
   "cell_type": "markdown",
   "metadata": {},
   "source": [
    "And we can compute aggregates of this data, such as the average or *mean*."
   ]
  },
  {
   "cell_type": "code",
   "execution_count": 9,
   "metadata": {},
   "outputs": [
    {
     "data": {
      "text/plain": [
       "1265.4125000000001"
      ]
     },
     "execution_count": 9,
     "metadata": {},
     "output_type": "execute_result"
    }
   ],
   "source": [
    "planets.solar_distance_km_6.mean()"
   ]
  },
  {
   "cell_type": "markdown",
   "metadata": {},
   "source": [
    "## Individuals\n",
    "\n",
    "The second dimension of our data consists of its rows or *individuals*.\n",
    "\n",
    "As with the columns, `pandas` has constructed an index for our rows. By default, this is the familiar `0, 1, 2, …`, and represented by the `RangeIndex` type."
   ]
  },
  {
   "cell_type": "code",
   "execution_count": 10,
   "metadata": {},
   "outputs": [
    {
     "data": {
      "text/plain": [
       "RangeIndex(start=0, stop=8, step=1)"
      ]
     },
     "execution_count": 10,
     "metadata": {},
     "output_type": "execute_result"
    }
   ],
   "source": [
    "planets.index"
   ]
  },
  {
   "cell_type": "markdown",
   "metadata": {},
   "source": [
    "And, as with the `list`, we can use the built-in function `len` to see that there are eight planets."
   ]
  },
  {
   "cell_type": "code",
   "execution_count": 11,
   "metadata": {},
   "outputs": [
    {
     "data": {
      "text/plain": [
       "8"
      ]
     },
     "execution_count": 11,
     "metadata": {},
     "output_type": "execute_result"
    }
   ],
   "source": [
    "len(planets)"
   ]
  },
  {
   "cell_type": "markdown",
   "metadata": {},
   "source": [
    "We can also *slice* the `DataFrame`, for example to extract only its first three rows."
   ]
  },
  {
   "cell_type": "code",
   "execution_count": 12,
   "metadata": {},
   "outputs": [
    {
     "data": {
      "text/html": [
       "<div>\n",
       "<style scoped>\n",
       "    .dataframe tbody tr th:only-of-type {\n",
       "        vertical-align: middle;\n",
       "    }\n",
       "\n",
       "    .dataframe tbody tr th {\n",
       "        vertical-align: top;\n",
       "    }\n",
       "\n",
       "    .dataframe thead th {\n",
       "        text-align: right;\n",
       "    }\n",
       "</style>\n",
       "<table border=\"1\" class=\"dataframe\">\n",
       "  <thead>\n",
       "    <tr style=\"text-align: right;\">\n",
       "      <th></th>\n",
       "      <th>name</th>\n",
       "      <th>solar_distance_km_6</th>\n",
       "      <th>mass_kg_24</th>\n",
       "      <th>density_kg_m3</th>\n",
       "      <th>gravity_m_s2</th>\n",
       "    </tr>\n",
       "  </thead>\n",
       "  <tbody>\n",
       "    <tr>\n",
       "      <td>0</td>\n",
       "      <td>Mercury</td>\n",
       "      <td>57.9</td>\n",
       "      <td>0.33</td>\n",
       "      <td>5427.0</td>\n",
       "      <td>3.7</td>\n",
       "    </tr>\n",
       "    <tr>\n",
       "      <td>1</td>\n",
       "      <td>Venus</td>\n",
       "      <td>108.2</td>\n",
       "      <td>4.87</td>\n",
       "      <td>5243.0</td>\n",
       "      <td>8.9</td>\n",
       "    </tr>\n",
       "    <tr>\n",
       "      <td>2</td>\n",
       "      <td>Earth</td>\n",
       "      <td>149.6</td>\n",
       "      <td>5.97</td>\n",
       "      <td>5514.0</td>\n",
       "      <td>9.8</td>\n",
       "    </tr>\n",
       "  </tbody>\n",
       "</table>\n",
       "</div>"
      ],
      "text/plain": [
       "      name  solar_distance_km_6  mass_kg_24  density_kg_m3  gravity_m_s2\n",
       "0  Mercury                 57.9        0.33         5427.0           3.7\n",
       "1    Venus                108.2        4.87         5243.0           8.9\n",
       "2    Earth                149.6        5.97         5514.0           9.8"
      ]
     },
     "execution_count": 12,
     "metadata": {},
     "output_type": "execute_result"
    }
   ],
   "source": [
    "planets[:3]"
   ]
  },
  {
   "cell_type": "markdown",
   "metadata": {},
   "source": [
    "Above, our slice has constructed a new `DataFrame`, consisting of only the data for the first three planets.\n",
    "\n",
    "**However**: you *can't* access *individual* rows or elements in the same manner as with a `list`:"
   ]
  },
  {
   "cell_type": "code",
   "execution_count": 13,
   "metadata": {},
   "outputs": [
    {
     "ename": "KeyError",
     "evalue": "2",
     "output_type": "error",
     "traceback": [
      "\u001b[0;31m---------------------------------------------------------------------------\u001b[0m",
      "\u001b[0;31mKeyError\u001b[0m                                  Traceback (most recent call last)",
      "\u001b[0;32m/opt/conda/lib/python3.7/site-packages/pandas/core/indexes/base.py\u001b[0m in \u001b[0;36mget_loc\u001b[0;34m(self, key, method, tolerance)\u001b[0m\n\u001b[1;32m   2896\u001b[0m             \u001b[0;32mtry\u001b[0m\u001b[0;34m:\u001b[0m\u001b[0;34m\u001b[0m\u001b[0;34m\u001b[0m\u001b[0m\n\u001b[0;32m-> 2897\u001b[0;31m                 \u001b[0;32mreturn\u001b[0m \u001b[0mself\u001b[0m\u001b[0;34m.\u001b[0m\u001b[0m_engine\u001b[0m\u001b[0;34m.\u001b[0m\u001b[0mget_loc\u001b[0m\u001b[0;34m(\u001b[0m\u001b[0mkey\u001b[0m\u001b[0;34m)\u001b[0m\u001b[0;34m\u001b[0m\u001b[0;34m\u001b[0m\u001b[0m\n\u001b[0m\u001b[1;32m   2898\u001b[0m             \u001b[0;32mexcept\u001b[0m \u001b[0mKeyError\u001b[0m\u001b[0;34m:\u001b[0m\u001b[0;34m\u001b[0m\u001b[0;34m\u001b[0m\u001b[0m\n",
      "\u001b[0;32mpandas/_libs/index.pyx\u001b[0m in \u001b[0;36mpandas._libs.index.IndexEngine.get_loc\u001b[0;34m()\u001b[0m\n",
      "\u001b[0;32mpandas/_libs/index.pyx\u001b[0m in \u001b[0;36mpandas._libs.index.IndexEngine.get_loc\u001b[0;34m()\u001b[0m\n",
      "\u001b[0;32mpandas/_libs/hashtable_class_helper.pxi\u001b[0m in \u001b[0;36mpandas._libs.hashtable.PyObjectHashTable.get_item\u001b[0;34m()\u001b[0m\n",
      "\u001b[0;32mpandas/_libs/hashtable_class_helper.pxi\u001b[0m in \u001b[0;36mpandas._libs.hashtable.PyObjectHashTable.get_item\u001b[0;34m()\u001b[0m\n",
      "\u001b[0;31mKeyError\u001b[0m: 2",
      "\nDuring handling of the above exception, another exception occurred:\n",
      "\u001b[0;31mKeyError\u001b[0m                                  Traceback (most recent call last)",
      "\u001b[0;32m<ipython-input-13-e3d749a015ed>\u001b[0m in \u001b[0;36m<module>\u001b[0;34m\u001b[0m\n\u001b[0;32m----> 1\u001b[0;31m \u001b[0mplanets\u001b[0m\u001b[0;34m[\u001b[0m\u001b[0;36m2\u001b[0m\u001b[0;34m]\u001b[0m\u001b[0;34m\u001b[0m\u001b[0;34m\u001b[0m\u001b[0m\n\u001b[0m",
      "\u001b[0;32m/opt/conda/lib/python3.7/site-packages/pandas/core/frame.py\u001b[0m in \u001b[0;36m__getitem__\u001b[0;34m(self, key)\u001b[0m\n\u001b[1;32m   2978\u001b[0m             \u001b[0;32mif\u001b[0m \u001b[0mself\u001b[0m\u001b[0;34m.\u001b[0m\u001b[0mcolumns\u001b[0m\u001b[0;34m.\u001b[0m\u001b[0mnlevels\u001b[0m \u001b[0;34m>\u001b[0m \u001b[0;36m1\u001b[0m\u001b[0;34m:\u001b[0m\u001b[0;34m\u001b[0m\u001b[0;34m\u001b[0m\u001b[0m\n\u001b[1;32m   2979\u001b[0m                 \u001b[0;32mreturn\u001b[0m \u001b[0mself\u001b[0m\u001b[0;34m.\u001b[0m\u001b[0m_getitem_multilevel\u001b[0m\u001b[0;34m(\u001b[0m\u001b[0mkey\u001b[0m\u001b[0;34m)\u001b[0m\u001b[0;34m\u001b[0m\u001b[0;34m\u001b[0m\u001b[0m\n\u001b[0;32m-> 2980\u001b[0;31m             \u001b[0mindexer\u001b[0m \u001b[0;34m=\u001b[0m \u001b[0mself\u001b[0m\u001b[0;34m.\u001b[0m\u001b[0mcolumns\u001b[0m\u001b[0;34m.\u001b[0m\u001b[0mget_loc\u001b[0m\u001b[0;34m(\u001b[0m\u001b[0mkey\u001b[0m\u001b[0;34m)\u001b[0m\u001b[0;34m\u001b[0m\u001b[0;34m\u001b[0m\u001b[0m\n\u001b[0m\u001b[1;32m   2981\u001b[0m             \u001b[0;32mif\u001b[0m \u001b[0mis_integer\u001b[0m\u001b[0;34m(\u001b[0m\u001b[0mindexer\u001b[0m\u001b[0;34m)\u001b[0m\u001b[0;34m:\u001b[0m\u001b[0;34m\u001b[0m\u001b[0;34m\u001b[0m\u001b[0m\n\u001b[1;32m   2982\u001b[0m                 \u001b[0mindexer\u001b[0m \u001b[0;34m=\u001b[0m \u001b[0;34m[\u001b[0m\u001b[0mindexer\u001b[0m\u001b[0;34m]\u001b[0m\u001b[0;34m\u001b[0m\u001b[0;34m\u001b[0m\u001b[0m\n",
      "\u001b[0;32m/opt/conda/lib/python3.7/site-packages/pandas/core/indexes/base.py\u001b[0m in \u001b[0;36mget_loc\u001b[0;34m(self, key, method, tolerance)\u001b[0m\n\u001b[1;32m   2897\u001b[0m                 \u001b[0;32mreturn\u001b[0m \u001b[0mself\u001b[0m\u001b[0;34m.\u001b[0m\u001b[0m_engine\u001b[0m\u001b[0;34m.\u001b[0m\u001b[0mget_loc\u001b[0m\u001b[0;34m(\u001b[0m\u001b[0mkey\u001b[0m\u001b[0;34m)\u001b[0m\u001b[0;34m\u001b[0m\u001b[0;34m\u001b[0m\u001b[0m\n\u001b[1;32m   2898\u001b[0m             \u001b[0;32mexcept\u001b[0m \u001b[0mKeyError\u001b[0m\u001b[0;34m:\u001b[0m\u001b[0;34m\u001b[0m\u001b[0;34m\u001b[0m\u001b[0m\n\u001b[0;32m-> 2899\u001b[0;31m                 \u001b[0;32mreturn\u001b[0m \u001b[0mself\u001b[0m\u001b[0;34m.\u001b[0m\u001b[0m_engine\u001b[0m\u001b[0;34m.\u001b[0m\u001b[0mget_loc\u001b[0m\u001b[0;34m(\u001b[0m\u001b[0mself\u001b[0m\u001b[0;34m.\u001b[0m\u001b[0m_maybe_cast_indexer\u001b[0m\u001b[0;34m(\u001b[0m\u001b[0mkey\u001b[0m\u001b[0;34m)\u001b[0m\u001b[0;34m)\u001b[0m\u001b[0;34m\u001b[0m\u001b[0;34m\u001b[0m\u001b[0m\n\u001b[0m\u001b[1;32m   2900\u001b[0m         \u001b[0mindexer\u001b[0m \u001b[0;34m=\u001b[0m \u001b[0mself\u001b[0m\u001b[0;34m.\u001b[0m\u001b[0mget_indexer\u001b[0m\u001b[0;34m(\u001b[0m\u001b[0;34m[\u001b[0m\u001b[0mkey\u001b[0m\u001b[0;34m]\u001b[0m\u001b[0;34m,\u001b[0m \u001b[0mmethod\u001b[0m\u001b[0;34m=\u001b[0m\u001b[0mmethod\u001b[0m\u001b[0;34m,\u001b[0m \u001b[0mtolerance\u001b[0m\u001b[0;34m=\u001b[0m\u001b[0mtolerance\u001b[0m\u001b[0;34m)\u001b[0m\u001b[0;34m\u001b[0m\u001b[0;34m\u001b[0m\u001b[0m\n\u001b[1;32m   2901\u001b[0m         \u001b[0;32mif\u001b[0m \u001b[0mindexer\u001b[0m\u001b[0;34m.\u001b[0m\u001b[0mndim\u001b[0m \u001b[0;34m>\u001b[0m \u001b[0;36m1\u001b[0m \u001b[0;32mor\u001b[0m \u001b[0mindexer\u001b[0m\u001b[0;34m.\u001b[0m\u001b[0msize\u001b[0m \u001b[0;34m>\u001b[0m \u001b[0;36m1\u001b[0m\u001b[0;34m:\u001b[0m\u001b[0;34m\u001b[0m\u001b[0;34m\u001b[0m\u001b[0m\n",
      "\u001b[0;32mpandas/_libs/index.pyx\u001b[0m in \u001b[0;36mpandas._libs.index.IndexEngine.get_loc\u001b[0;34m()\u001b[0m\n",
      "\u001b[0;32mpandas/_libs/index.pyx\u001b[0m in \u001b[0;36mpandas._libs.index.IndexEngine.get_loc\u001b[0;34m()\u001b[0m\n",
      "\u001b[0;32mpandas/_libs/hashtable_class_helper.pxi\u001b[0m in \u001b[0;36mpandas._libs.hashtable.PyObjectHashTable.get_item\u001b[0;34m()\u001b[0m\n",
      "\u001b[0;32mpandas/_libs/hashtable_class_helper.pxi\u001b[0m in \u001b[0;36mpandas._libs.hashtable.PyObjectHashTable.get_item\u001b[0;34m()\u001b[0m\n",
      "\u001b[0;31mKeyError\u001b[0m: 2"
     ]
    }
   ],
   "source": [
    "planets[2]"
   ]
  },
  {
   "cell_type": "markdown",
   "metadata": {},
   "source": [
    "After all, the `DataFrame` is a more complex structure than the `list` – the above reference to the offset `2` was treated as a reference to a column!\n",
    "\n",
    "Indeed, this is an alternate syntax *for extracting columns*, and which is useful and necessary when columns are given complex names. (Complex names are any including characters which are part of Python's syntax, and therefore invalid names of assignment, such as spaces, quotes, brackets, *etc.*)"
   ]
  },
  {
   "cell_type": "code",
   "execution_count": 14,
   "metadata": {},
   "outputs": [
    {
     "data": {
      "text/plain": [
       "0    Mercury\n",
       "1      Venus\n",
       "2      Earth\n",
       "3       Mars\n",
       "4    Jupiter\n",
       "5     Saturn\n",
       "6     Uranus\n",
       "7    Neptune\n",
       "Name: name, dtype: object"
      ]
     },
     "execution_count": 14,
     "metadata": {},
     "output_type": "execute_result"
    }
   ],
   "source": [
    "planets['name']"
   ]
  },
  {
   "cell_type": "markdown",
   "metadata": {},
   "source": [
    "Instead, `DataFrame` offers the properties `iloc` and `loc`, which may themselves be queried with a syntax similar to that of retrieving elements from a `list`.\n",
    "\n",
    "`iloc` is intended for *integer-location* based look-up of elements by their position in the index.\n",
    "\n",
    "We can reproduce our slice explicitly using `iloc`:"
   ]
  },
  {
   "cell_type": "code",
   "execution_count": 15,
   "metadata": {},
   "outputs": [
    {
     "data": {
      "text/html": [
       "<div>\n",
       "<style scoped>\n",
       "    .dataframe tbody tr th:only-of-type {\n",
       "        vertical-align: middle;\n",
       "    }\n",
       "\n",
       "    .dataframe tbody tr th {\n",
       "        vertical-align: top;\n",
       "    }\n",
       "\n",
       "    .dataframe thead th {\n",
       "        text-align: right;\n",
       "    }\n",
       "</style>\n",
       "<table border=\"1\" class=\"dataframe\">\n",
       "  <thead>\n",
       "    <tr style=\"text-align: right;\">\n",
       "      <th></th>\n",
       "      <th>name</th>\n",
       "      <th>solar_distance_km_6</th>\n",
       "      <th>mass_kg_24</th>\n",
       "      <th>density_kg_m3</th>\n",
       "      <th>gravity_m_s2</th>\n",
       "    </tr>\n",
       "  </thead>\n",
       "  <tbody>\n",
       "    <tr>\n",
       "      <td>0</td>\n",
       "      <td>Mercury</td>\n",
       "      <td>57.9</td>\n",
       "      <td>0.33</td>\n",
       "      <td>5427.0</td>\n",
       "      <td>3.7</td>\n",
       "    </tr>\n",
       "    <tr>\n",
       "      <td>1</td>\n",
       "      <td>Venus</td>\n",
       "      <td>108.2</td>\n",
       "      <td>4.87</td>\n",
       "      <td>5243.0</td>\n",
       "      <td>8.9</td>\n",
       "    </tr>\n",
       "    <tr>\n",
       "      <td>2</td>\n",
       "      <td>Earth</td>\n",
       "      <td>149.6</td>\n",
       "      <td>5.97</td>\n",
       "      <td>5514.0</td>\n",
       "      <td>9.8</td>\n",
       "    </tr>\n",
       "  </tbody>\n",
       "</table>\n",
       "</div>"
      ],
      "text/plain": [
       "      name  solar_distance_km_6  mass_kg_24  density_kg_m3  gravity_m_s2\n",
       "0  Mercury                 57.9        0.33         5427.0           3.7\n",
       "1    Venus                108.2        4.87         5243.0           8.9\n",
       "2    Earth                149.6        5.97         5514.0           9.8"
      ]
     },
     "execution_count": 15,
     "metadata": {},
     "output_type": "execute_result"
    }
   ],
   "source": [
    "planets.iloc[:3]"
   ]
  },
  {
   "cell_type": "markdown",
   "metadata": {},
   "source": [
    "We can also do something new – construct a new `DataFrame` consisting of only the rows at the specified offsets."
   ]
  },
  {
   "cell_type": "code",
   "execution_count": 16,
   "metadata": {},
   "outputs": [
    {
     "data": {
      "text/html": [
       "<div>\n",
       "<style scoped>\n",
       "    .dataframe tbody tr th:only-of-type {\n",
       "        vertical-align: middle;\n",
       "    }\n",
       "\n",
       "    .dataframe tbody tr th {\n",
       "        vertical-align: top;\n",
       "    }\n",
       "\n",
       "    .dataframe thead th {\n",
       "        text-align: right;\n",
       "    }\n",
       "</style>\n",
       "<table border=\"1\" class=\"dataframe\">\n",
       "  <thead>\n",
       "    <tr style=\"text-align: right;\">\n",
       "      <th></th>\n",
       "      <th>name</th>\n",
       "      <th>solar_distance_km_6</th>\n",
       "      <th>mass_kg_24</th>\n",
       "      <th>density_kg_m3</th>\n",
       "      <th>gravity_m_s2</th>\n",
       "    </tr>\n",
       "  </thead>\n",
       "  <tbody>\n",
       "    <tr>\n",
       "      <td>0</td>\n",
       "      <td>Mercury</td>\n",
       "      <td>57.9</td>\n",
       "      <td>0.33</td>\n",
       "      <td>5427.0</td>\n",
       "      <td>3.7</td>\n",
       "    </tr>\n",
       "    <tr>\n",
       "      <td>7</td>\n",
       "      <td>Neptune</td>\n",
       "      <td>4495.1</td>\n",
       "      <td>102.00</td>\n",
       "      <td>1638.0</td>\n",
       "      <td>11.0</td>\n",
       "    </tr>\n",
       "  </tbody>\n",
       "</table>\n",
       "</div>"
      ],
      "text/plain": [
       "      name  solar_distance_km_6  mass_kg_24  density_kg_m3  gravity_m_s2\n",
       "0  Mercury                 57.9        0.33         5427.0           3.7\n",
       "7  Neptune               4495.1      102.00         1638.0          11.0"
      ]
     },
     "execution_count": 16,
     "metadata": {},
     "output_type": "execute_result"
    }
   ],
   "source": [
    "planets.iloc[[0, 7]]"
   ]
  },
  {
   "cell_type": "markdown",
   "metadata": {},
   "source": [
    "Above, we've specified to our `iloc`-based look-up a `list` – `[0, 7]` – indicating that we are interested in selecting out the rows at those offsets.\n",
    "\n",
    "Note that in the new `DataFrame`, the planets' row index values have been preserved. This is highly useful – indeed, Neptune is still the same planet as it was before. But `iloc` is **strictly** intended for offsets, like in a `list`. If we were to repeat our selection of `[0, 7]` on the above, this would fail. Rather, the offset references for these two planets in the new `DataFrame` are now given by `[0, 1]`. According to `iloc` in this new `DataFrame`, Neptune will now be available at offset `1`."
   ]
  },
  {
   "cell_type": "code",
   "execution_count": 17,
   "metadata": {},
   "outputs": [
    {
     "data": {
      "text/plain": [
       "name                   Neptune\n",
       "solar_distance_km_6     4495.1\n",
       "mass_kg_24                 102\n",
       "density_kg_m3             1638\n",
       "gravity_m_s2                11\n",
       "Name: 7, dtype: object"
      ]
     },
     "execution_count": 17,
     "metadata": {},
     "output_type": "execute_result"
    }
   ],
   "source": [
    "bookends = planets.iloc[[0, 7]]\n",
    "\n",
    "bookends.iloc[1]"
   ]
  },
  {
   "cell_type": "markdown",
   "metadata": {},
   "source": [
    "In the next section, we will explore selection of elements by index value or label.\n",
    "\n",
    "But now we can retrieve the features of another individual of our data set – Earth, the third planet from the sun."
   ]
  },
  {
   "cell_type": "code",
   "execution_count": 18,
   "metadata": {},
   "outputs": [
    {
     "data": {
      "text/plain": [
       "name                   Earth\n",
       "solar_distance_km_6    149.6\n",
       "mass_kg_24              5.97\n",
       "density_kg_m3           5514\n",
       "gravity_m_s2             9.8\n",
       "Name: 2, dtype: object"
      ]
     },
     "execution_count": 18,
     "metadata": {},
     "output_type": "execute_result"
    }
   ],
   "source": [
    "earth = planets.iloc[2]\n",
    "\n",
    "earth"
   ]
  },
  {
   "cell_type": "markdown",
   "metadata": {},
   "source": [
    "We can further extract from this just the Earth's distance from the Sun."
   ]
  },
  {
   "cell_type": "code",
   "execution_count": 19,
   "metadata": {},
   "outputs": [
    {
     "data": {
      "text/plain": [
       "149.6"
      ]
     },
     "execution_count": 19,
     "metadata": {},
     "output_type": "execute_result"
    }
   ],
   "source": [
    "earth.solar_distance_km_6"
   ]
  },
  {
   "cell_type": "markdown",
   "metadata": {},
   "source": [
    "And we can get an idea from the above of how spread out the planets are.\n",
    "\n",
    "The Earth is the third of eight planets, yet its distance from the sun is less than 12% their average."
   ]
  },
  {
   "cell_type": "code",
   "execution_count": 20,
   "metadata": {},
   "outputs": [
    {
     "data": {
      "text/plain": [
       "0.11822231880908397"
      ]
     },
     "execution_count": 20,
     "metadata": {},
     "output_type": "execute_result"
    }
   ],
   "source": [
    "earth.solar_distance_km_6 / planets.solar_distance_km_6.mean()"
   ]
  },
  {
   "cell_type": "markdown",
   "metadata": {},
   "source": [
    "Generally, we might note that the median distance of planets from the sun is less than half their mean."
   ]
  },
  {
   "cell_type": "code",
   "execution_count": 21,
   "metadata": {},
   "outputs": [
    {
     "data": {
      "text/plain": [
       "0.39769640334673473"
      ]
     },
     "execution_count": 21,
     "metadata": {},
     "output_type": "execute_result"
    }
   ],
   "source": [
    "planets.solar_distance_km_6.median() / planets.solar_distance_km_6.mean()"
   ]
  },
  {
   "cell_type": "markdown",
   "metadata": {},
   "source": [
    "`pandas` supports a number of statistical methods, such as standard deviation `std`, mean absolute deviation `mad`, and more.\n",
    "\n",
    "We know that the planets are spread out. Let's take a look at simply how their distances increase."
   ]
  },
  {
   "cell_type": "code",
   "execution_count": 22,
   "metadata": {},
   "outputs": [
    {
     "data": {
      "text/plain": [
       "0       NaN\n",
       "1      50.3\n",
       "2      41.4\n",
       "3      78.3\n",
       "4     550.7\n",
       "5     654.9\n",
       "6    1439.0\n",
       "7    1622.6\n",
       "Name: solar_distance_km_6, dtype: float64"
      ]
     },
     "execution_count": 22,
     "metadata": {},
     "output_type": "execute_result"
    }
   ],
   "source": [
    "planets.solar_distance_km_6.diff()"
   ]
  },
  {
   "cell_type": "markdown",
   "metadata": {},
   "source": [
    "The above `Series` tells us that Venus is 50.3 million kilometers farther from the sun than Mercury, Earth is 41.4 million kilometers farther than Venus, *etc.* (The first value, for Mercury, is `NaN` – \"not a number\" – because there is no planet closer than it to the sun, with which to compare its distance.)\n",
    "\n",
    "And, indeed, the distances between the planets increase dramatically.\n",
    "\n",
    "We can see roughly that the first big jump is in the distance between Mars and Jupiter. The distances between the outer planets then continue to be greater than those between the inner planets, and continue to increase. But there's another big intermediate jump, between Saturn and Uranus.\n",
    "\n",
    "We can express the above quantitatively as well:"
   ]
  },
  {
   "cell_type": "code",
   "execution_count": 23,
   "metadata": {},
   "outputs": [
    {
     "data": {
      "text/plain": [
       "0         NaN\n",
       "1    0.868739\n",
       "2    0.382625\n",
       "3    0.523396\n",
       "4    2.416411\n",
       "5    0.841125\n",
       "6    1.003837\n",
       "7    0.564874\n",
       "Name: solar_distance_km_6, dtype: float64"
      ]
     },
     "execution_count": 23,
     "metadata": {},
     "output_type": "execute_result"
    }
   ],
   "source": [
    "distance_rel_change = planets.solar_distance_km_6.pct_change()\n",
    "\n",
    "distance_rel_change"
   ]
  },
  {
   "cell_type": "markdown",
   "metadata": {},
   "source": [
    "In preceding examples, we've used the built-in operator for division against two numeric arguments of type `float`. The result of each of these operations was appropriately also a `float`.\n",
    "\n",
    "We can also apply this operator to divide each of an entire `Series` of `float` values by a single `float`, and in so doing produce a new `Series`.\n",
    "\n",
    "Many built-in operators are supported. For clarity, let's map our percent-change values to conventional percentages, using the operator for multiplication.\n",
    "\n",
    "The `pct_change` method returns these values as ratios, comparing the distance of each planet from the sun, $distance_1$, to the distance of the planet preceding it, $distance_0$, according to:\n",
    "\n",
    "\\begin{align\\*}\n",
    "\\frac{distance_1 - distance_0}{distance_0}\n",
    "\\end{align\\*}\n",
    "\n",
    "We can represent these as conventional percentages by simply multiplying them by `100`."
   ]
  },
  {
   "cell_type": "code",
   "execution_count": 24,
   "metadata": {},
   "outputs": [
    {
     "data": {
      "text/plain": [
       "0           NaN\n",
       "1     86.873921\n",
       "2     38.262477\n",
       "3     52.339572\n",
       "4    241.641071\n",
       "5     84.112510\n",
       "6    100.383676\n",
       "7     56.487380\n",
       "Name: solar_distance_km_6, dtype: float64"
      ]
     },
     "execution_count": 24,
     "metadata": {},
     "output_type": "execute_result"
    }
   ],
   "source": [
    "distance_pct_change = distance_rel_change * 100\n",
    "\n",
    "distance_pct_change"
   ]
  },
  {
   "cell_type": "markdown",
   "metadata": {},
   "source": [
    "And while we all have in mind the order of the planets, it would be more meaningful to see the above values in context, along with our other planetary data.\n",
    "\n",
    "We can use the `assign` method to construct a new `DataFrame`, one which begins with the data from `planets`, and which adds to this our new column."
   ]
  },
  {
   "cell_type": "code",
   "execution_count": 25,
   "metadata": {},
   "outputs": [
    {
     "data": {
      "text/html": [
       "<div>\n",
       "<style scoped>\n",
       "    .dataframe tbody tr th:only-of-type {\n",
       "        vertical-align: middle;\n",
       "    }\n",
       "\n",
       "    .dataframe tbody tr th {\n",
       "        vertical-align: top;\n",
       "    }\n",
       "\n",
       "    .dataframe thead th {\n",
       "        text-align: right;\n",
       "    }\n",
       "</style>\n",
       "<table border=\"1\" class=\"dataframe\">\n",
       "  <thead>\n",
       "    <tr style=\"text-align: right;\">\n",
       "      <th></th>\n",
       "      <th>name</th>\n",
       "      <th>solar_distance_km_6</th>\n",
       "      <th>mass_kg_24</th>\n",
       "      <th>density_kg_m3</th>\n",
       "      <th>gravity_m_s2</th>\n",
       "      <th>distance_pct_change</th>\n",
       "    </tr>\n",
       "  </thead>\n",
       "  <tbody>\n",
       "    <tr>\n",
       "      <td>0</td>\n",
       "      <td>Mercury</td>\n",
       "      <td>57.9</td>\n",
       "      <td>0.330</td>\n",
       "      <td>5427.0</td>\n",
       "      <td>3.7</td>\n",
       "      <td>NaN</td>\n",
       "    </tr>\n",
       "    <tr>\n",
       "      <td>1</td>\n",
       "      <td>Venus</td>\n",
       "      <td>108.2</td>\n",
       "      <td>4.870</td>\n",
       "      <td>5243.0</td>\n",
       "      <td>8.9</td>\n",
       "      <td>86.873921</td>\n",
       "    </tr>\n",
       "    <tr>\n",
       "      <td>2</td>\n",
       "      <td>Earth</td>\n",
       "      <td>149.6</td>\n",
       "      <td>5.970</td>\n",
       "      <td>5514.0</td>\n",
       "      <td>9.8</td>\n",
       "      <td>38.262477</td>\n",
       "    </tr>\n",
       "    <tr>\n",
       "      <td>3</td>\n",
       "      <td>Mars</td>\n",
       "      <td>227.9</td>\n",
       "      <td>0.642</td>\n",
       "      <td>3933.0</td>\n",
       "      <td>3.7</td>\n",
       "      <td>52.339572</td>\n",
       "    </tr>\n",
       "    <tr>\n",
       "      <td>4</td>\n",
       "      <td>Jupiter</td>\n",
       "      <td>778.6</td>\n",
       "      <td>1898.000</td>\n",
       "      <td>1326.0</td>\n",
       "      <td>23.1</td>\n",
       "      <td>241.641071</td>\n",
       "    </tr>\n",
       "    <tr>\n",
       "      <td>5</td>\n",
       "      <td>Saturn</td>\n",
       "      <td>1433.5</td>\n",
       "      <td>568.000</td>\n",
       "      <td>687.0</td>\n",
       "      <td>9.0</td>\n",
       "      <td>84.112510</td>\n",
       "    </tr>\n",
       "    <tr>\n",
       "      <td>6</td>\n",
       "      <td>Uranus</td>\n",
       "      <td>2872.5</td>\n",
       "      <td>86.800</td>\n",
       "      <td>1271.0</td>\n",
       "      <td>8.7</td>\n",
       "      <td>100.383676</td>\n",
       "    </tr>\n",
       "    <tr>\n",
       "      <td>7</td>\n",
       "      <td>Neptune</td>\n",
       "      <td>4495.1</td>\n",
       "      <td>102.000</td>\n",
       "      <td>1638.0</td>\n",
       "      <td>11.0</td>\n",
       "      <td>56.487380</td>\n",
       "    </tr>\n",
       "  </tbody>\n",
       "</table>\n",
       "</div>"
      ],
      "text/plain": [
       "      name  solar_distance_km_6  mass_kg_24  density_kg_m3  gravity_m_s2  \\\n",
       "0  Mercury                 57.9       0.330         5427.0           3.7   \n",
       "1    Venus                108.2       4.870         5243.0           8.9   \n",
       "2    Earth                149.6       5.970         5514.0           9.8   \n",
       "3     Mars                227.9       0.642         3933.0           3.7   \n",
       "4  Jupiter                778.6    1898.000         1326.0          23.1   \n",
       "5   Saturn               1433.5     568.000          687.0           9.0   \n",
       "6   Uranus               2872.5      86.800         1271.0           8.7   \n",
       "7  Neptune               4495.1     102.000         1638.0          11.0   \n",
       "\n",
       "   distance_pct_change  \n",
       "0                  NaN  \n",
       "1            86.873921  \n",
       "2            38.262477  \n",
       "3            52.339572  \n",
       "4           241.641071  \n",
       "5            84.112510  \n",
       "6           100.383676  \n",
       "7            56.487380  "
      ]
     },
     "execution_count": 25,
     "metadata": {},
     "output_type": "execute_result"
    }
   ],
   "source": [
    "planets.assign(distance_pct_change=distance_pct_change)"
   ]
  },
  {
   "cell_type": "markdown",
   "metadata": {},
   "source": [
    "As you can see, the `assign` method accepts *only* named keyword arguments. Notably, these can be *any* syntactically-valid name – `pandas` adds the sequence of values you specify to the existing data as a new column, and *assigns* to the new column this name.\n",
    "\n",
    "Arguably, of course, our multiplication by 100 was only an aesthetic change. We might instead preserve the output of our `pct_change` calculation, and merely adjust the presentation of our `DataFrame`.\n",
    "\n",
    "`pandas` offers the `DataFrame` property `style`, whose `format` method accepts either functions or strings, with which it determines how to present its data. String arguments to this `format` method follow Python's standard form for indicating how a value should be presented as text.\n",
    "\n",
    "Python's strings offer their own `format` method. And, for example, we might construct a string presenting the `float` value `0.868739` as a conventional percentage, as follows."
   ]
  },
  {
   "cell_type": "code",
   "execution_count": 26,
   "metadata": {},
   "outputs": [
    {
     "data": {
      "text/plain": [
       "'86.87%'"
      ]
     },
     "execution_count": 26,
     "metadata": {},
     "output_type": "execute_result"
    }
   ],
   "source": [
    "'{:.2%}'.format(0.868739)"
   ]
  },
  {
   "cell_type": "markdown",
   "metadata": {},
   "source": [
    "In a similar manner we can apply this formatting to our column, without altering the underlying values."
   ]
  },
  {
   "cell_type": "code",
   "execution_count": 27,
   "metadata": {},
   "outputs": [
    {
     "data": {
      "text/html": [
       "<div>\n",
       "<style scoped>\n",
       "    .dataframe tbody tr th:only-of-type {\n",
       "        vertical-align: middle;\n",
       "    }\n",
       "\n",
       "    .dataframe tbody tr th {\n",
       "        vertical-align: top;\n",
       "    }\n",
       "\n",
       "    .dataframe thead th {\n",
       "        text-align: right;\n",
       "    }\n",
       "</style>\n",
       "<table border=\"1\" class=\"dataframe\">\n",
       "  <thead>\n",
       "    <tr style=\"text-align: right;\">\n",
       "      <th></th>\n",
       "      <th>name</th>\n",
       "      <th>solar_distance_km_6</th>\n",
       "      <th>mass_kg_24</th>\n",
       "      <th>density_kg_m3</th>\n",
       "      <th>gravity_m_s2</th>\n",
       "      <th>distance_rel_change</th>\n",
       "    </tr>\n",
       "  </thead>\n",
       "  <tbody>\n",
       "    <tr>\n",
       "      <td>0</td>\n",
       "      <td>Mercury</td>\n",
       "      <td>57.9</td>\n",
       "      <td>0.330</td>\n",
       "      <td>5427.0</td>\n",
       "      <td>3.7</td>\n",
       "      <td>NaN</td>\n",
       "    </tr>\n",
       "    <tr>\n",
       "      <td>1</td>\n",
       "      <td>Venus</td>\n",
       "      <td>108.2</td>\n",
       "      <td>4.870</td>\n",
       "      <td>5243.0</td>\n",
       "      <td>8.9</td>\n",
       "      <td>0.868739</td>\n",
       "    </tr>\n",
       "    <tr>\n",
       "      <td>2</td>\n",
       "      <td>Earth</td>\n",
       "      <td>149.6</td>\n",
       "      <td>5.970</td>\n",
       "      <td>5514.0</td>\n",
       "      <td>9.8</td>\n",
       "      <td>0.382625</td>\n",
       "    </tr>\n",
       "    <tr>\n",
       "      <td>3</td>\n",
       "      <td>Mars</td>\n",
       "      <td>227.9</td>\n",
       "      <td>0.642</td>\n",
       "      <td>3933.0</td>\n",
       "      <td>3.7</td>\n",
       "      <td>0.523396</td>\n",
       "    </tr>\n",
       "    <tr>\n",
       "      <td>4</td>\n",
       "      <td>Jupiter</td>\n",
       "      <td>778.6</td>\n",
       "      <td>1898.000</td>\n",
       "      <td>1326.0</td>\n",
       "      <td>23.1</td>\n",
       "      <td>2.416411</td>\n",
       "    </tr>\n",
       "    <tr>\n",
       "      <td>5</td>\n",
       "      <td>Saturn</td>\n",
       "      <td>1433.5</td>\n",
       "      <td>568.000</td>\n",
       "      <td>687.0</td>\n",
       "      <td>9.0</td>\n",
       "      <td>0.841125</td>\n",
       "    </tr>\n",
       "    <tr>\n",
       "      <td>6</td>\n",
       "      <td>Uranus</td>\n",
       "      <td>2872.5</td>\n",
       "      <td>86.800</td>\n",
       "      <td>1271.0</td>\n",
       "      <td>8.7</td>\n",
       "      <td>1.003837</td>\n",
       "    </tr>\n",
       "    <tr>\n",
       "      <td>7</td>\n",
       "      <td>Neptune</td>\n",
       "      <td>4495.1</td>\n",
       "      <td>102.000</td>\n",
       "      <td>1638.0</td>\n",
       "      <td>11.0</td>\n",
       "      <td>0.564874</td>\n",
       "    </tr>\n",
       "  </tbody>\n",
       "</table>\n",
       "</div>"
      ],
      "text/plain": [
       "      name  solar_distance_km_6  mass_kg_24  density_kg_m3  gravity_m_s2  \\\n",
       "0  Mercury                 57.9       0.330         5427.0           3.7   \n",
       "1    Venus                108.2       4.870         5243.0           8.9   \n",
       "2    Earth                149.6       5.970         5514.0           9.8   \n",
       "3     Mars                227.9       0.642         3933.0           3.7   \n",
       "4  Jupiter                778.6    1898.000         1326.0          23.1   \n",
       "5   Saturn               1433.5     568.000          687.0           9.0   \n",
       "6   Uranus               2872.5      86.800         1271.0           8.7   \n",
       "7  Neptune               4495.1     102.000         1638.0          11.0   \n",
       "\n",
       "   distance_rel_change  \n",
       "0                  NaN  \n",
       "1             0.868739  \n",
       "2             0.382625  \n",
       "3             0.523396  \n",
       "4             2.416411  \n",
       "5             0.841125  \n",
       "6             1.003837  \n",
       "7             0.564874  "
      ]
     },
     "execution_count": 27,
     "metadata": {},
     "output_type": "execute_result"
    }
   ],
   "source": [
    "planets_rel_change = planets.assign(distance_rel_change=distance_rel_change)\n",
    "\n",
    "planets_rel_change"
   ]
  },
  {
   "cell_type": "code",
   "execution_count": 28,
   "metadata": {},
   "outputs": [
    {
     "data": {
      "text/html": [
       "<style  type=\"text/css\" >\n",
       "</style><table id=\"T_e75a3ae8_59a5_11ea_8552_0242ac130003\" ><thead>    <tr>        <th class=\"blank level0\" ></th>        <th class=\"col_heading level0 col0\" >name</th>        <th class=\"col_heading level0 col1\" >solar_distance_km_6</th>        <th class=\"col_heading level0 col2\" >mass_kg_24</th>        <th class=\"col_heading level0 col3\" >density_kg_m3</th>        <th class=\"col_heading level0 col4\" >gravity_m_s2</th>        <th class=\"col_heading level0 col5\" >distance_rel_change</th>    </tr></thead><tbody>\n",
       "                <tr>\n",
       "                        <th id=\"T_e75a3ae8_59a5_11ea_8552_0242ac130003level0_row0\" class=\"row_heading level0 row0\" >0</th>\n",
       "                        <td id=\"T_e75a3ae8_59a5_11ea_8552_0242ac130003row0_col0\" class=\"data row0 col0\" >Mercury</td>\n",
       "                        <td id=\"T_e75a3ae8_59a5_11ea_8552_0242ac130003row0_col1\" class=\"data row0 col1\" >57.9</td>\n",
       "                        <td id=\"T_e75a3ae8_59a5_11ea_8552_0242ac130003row0_col2\" class=\"data row0 col2\" >0.33</td>\n",
       "                        <td id=\"T_e75a3ae8_59a5_11ea_8552_0242ac130003row0_col3\" class=\"data row0 col3\" >5427</td>\n",
       "                        <td id=\"T_e75a3ae8_59a5_11ea_8552_0242ac130003row0_col4\" class=\"data row0 col4\" >3.7</td>\n",
       "                        <td id=\"T_e75a3ae8_59a5_11ea_8552_0242ac130003row0_col5\" class=\"data row0 col5\" >nan%</td>\n",
       "            </tr>\n",
       "            <tr>\n",
       "                        <th id=\"T_e75a3ae8_59a5_11ea_8552_0242ac130003level0_row1\" class=\"row_heading level0 row1\" >1</th>\n",
       "                        <td id=\"T_e75a3ae8_59a5_11ea_8552_0242ac130003row1_col0\" class=\"data row1 col0\" >Venus</td>\n",
       "                        <td id=\"T_e75a3ae8_59a5_11ea_8552_0242ac130003row1_col1\" class=\"data row1 col1\" >108.2</td>\n",
       "                        <td id=\"T_e75a3ae8_59a5_11ea_8552_0242ac130003row1_col2\" class=\"data row1 col2\" >4.87</td>\n",
       "                        <td id=\"T_e75a3ae8_59a5_11ea_8552_0242ac130003row1_col3\" class=\"data row1 col3\" >5243</td>\n",
       "                        <td id=\"T_e75a3ae8_59a5_11ea_8552_0242ac130003row1_col4\" class=\"data row1 col4\" >8.9</td>\n",
       "                        <td id=\"T_e75a3ae8_59a5_11ea_8552_0242ac130003row1_col5\" class=\"data row1 col5\" >86.87%</td>\n",
       "            </tr>\n",
       "            <tr>\n",
       "                        <th id=\"T_e75a3ae8_59a5_11ea_8552_0242ac130003level0_row2\" class=\"row_heading level0 row2\" >2</th>\n",
       "                        <td id=\"T_e75a3ae8_59a5_11ea_8552_0242ac130003row2_col0\" class=\"data row2 col0\" >Earth</td>\n",
       "                        <td id=\"T_e75a3ae8_59a5_11ea_8552_0242ac130003row2_col1\" class=\"data row2 col1\" >149.6</td>\n",
       "                        <td id=\"T_e75a3ae8_59a5_11ea_8552_0242ac130003row2_col2\" class=\"data row2 col2\" >5.97</td>\n",
       "                        <td id=\"T_e75a3ae8_59a5_11ea_8552_0242ac130003row2_col3\" class=\"data row2 col3\" >5514</td>\n",
       "                        <td id=\"T_e75a3ae8_59a5_11ea_8552_0242ac130003row2_col4\" class=\"data row2 col4\" >9.8</td>\n",
       "                        <td id=\"T_e75a3ae8_59a5_11ea_8552_0242ac130003row2_col5\" class=\"data row2 col5\" >38.26%</td>\n",
       "            </tr>\n",
       "            <tr>\n",
       "                        <th id=\"T_e75a3ae8_59a5_11ea_8552_0242ac130003level0_row3\" class=\"row_heading level0 row3\" >3</th>\n",
       "                        <td id=\"T_e75a3ae8_59a5_11ea_8552_0242ac130003row3_col0\" class=\"data row3 col0\" >Mars</td>\n",
       "                        <td id=\"T_e75a3ae8_59a5_11ea_8552_0242ac130003row3_col1\" class=\"data row3 col1\" >227.9</td>\n",
       "                        <td id=\"T_e75a3ae8_59a5_11ea_8552_0242ac130003row3_col2\" class=\"data row3 col2\" >0.642</td>\n",
       "                        <td id=\"T_e75a3ae8_59a5_11ea_8552_0242ac130003row3_col3\" class=\"data row3 col3\" >3933</td>\n",
       "                        <td id=\"T_e75a3ae8_59a5_11ea_8552_0242ac130003row3_col4\" class=\"data row3 col4\" >3.7</td>\n",
       "                        <td id=\"T_e75a3ae8_59a5_11ea_8552_0242ac130003row3_col5\" class=\"data row3 col5\" >52.34%</td>\n",
       "            </tr>\n",
       "            <tr>\n",
       "                        <th id=\"T_e75a3ae8_59a5_11ea_8552_0242ac130003level0_row4\" class=\"row_heading level0 row4\" >4</th>\n",
       "                        <td id=\"T_e75a3ae8_59a5_11ea_8552_0242ac130003row4_col0\" class=\"data row4 col0\" >Jupiter</td>\n",
       "                        <td id=\"T_e75a3ae8_59a5_11ea_8552_0242ac130003row4_col1\" class=\"data row4 col1\" >778.6</td>\n",
       "                        <td id=\"T_e75a3ae8_59a5_11ea_8552_0242ac130003row4_col2\" class=\"data row4 col2\" >1898</td>\n",
       "                        <td id=\"T_e75a3ae8_59a5_11ea_8552_0242ac130003row4_col3\" class=\"data row4 col3\" >1326</td>\n",
       "                        <td id=\"T_e75a3ae8_59a5_11ea_8552_0242ac130003row4_col4\" class=\"data row4 col4\" >23.1</td>\n",
       "                        <td id=\"T_e75a3ae8_59a5_11ea_8552_0242ac130003row4_col5\" class=\"data row4 col5\" >241.64%</td>\n",
       "            </tr>\n",
       "            <tr>\n",
       "                        <th id=\"T_e75a3ae8_59a5_11ea_8552_0242ac130003level0_row5\" class=\"row_heading level0 row5\" >5</th>\n",
       "                        <td id=\"T_e75a3ae8_59a5_11ea_8552_0242ac130003row5_col0\" class=\"data row5 col0\" >Saturn</td>\n",
       "                        <td id=\"T_e75a3ae8_59a5_11ea_8552_0242ac130003row5_col1\" class=\"data row5 col1\" >1433.5</td>\n",
       "                        <td id=\"T_e75a3ae8_59a5_11ea_8552_0242ac130003row5_col2\" class=\"data row5 col2\" >568</td>\n",
       "                        <td id=\"T_e75a3ae8_59a5_11ea_8552_0242ac130003row5_col3\" class=\"data row5 col3\" >687</td>\n",
       "                        <td id=\"T_e75a3ae8_59a5_11ea_8552_0242ac130003row5_col4\" class=\"data row5 col4\" >9</td>\n",
       "                        <td id=\"T_e75a3ae8_59a5_11ea_8552_0242ac130003row5_col5\" class=\"data row5 col5\" >84.11%</td>\n",
       "            </tr>\n",
       "            <tr>\n",
       "                        <th id=\"T_e75a3ae8_59a5_11ea_8552_0242ac130003level0_row6\" class=\"row_heading level0 row6\" >6</th>\n",
       "                        <td id=\"T_e75a3ae8_59a5_11ea_8552_0242ac130003row6_col0\" class=\"data row6 col0\" >Uranus</td>\n",
       "                        <td id=\"T_e75a3ae8_59a5_11ea_8552_0242ac130003row6_col1\" class=\"data row6 col1\" >2872.5</td>\n",
       "                        <td id=\"T_e75a3ae8_59a5_11ea_8552_0242ac130003row6_col2\" class=\"data row6 col2\" >86.8</td>\n",
       "                        <td id=\"T_e75a3ae8_59a5_11ea_8552_0242ac130003row6_col3\" class=\"data row6 col3\" >1271</td>\n",
       "                        <td id=\"T_e75a3ae8_59a5_11ea_8552_0242ac130003row6_col4\" class=\"data row6 col4\" >8.7</td>\n",
       "                        <td id=\"T_e75a3ae8_59a5_11ea_8552_0242ac130003row6_col5\" class=\"data row6 col5\" >100.38%</td>\n",
       "            </tr>\n",
       "            <tr>\n",
       "                        <th id=\"T_e75a3ae8_59a5_11ea_8552_0242ac130003level0_row7\" class=\"row_heading level0 row7\" >7</th>\n",
       "                        <td id=\"T_e75a3ae8_59a5_11ea_8552_0242ac130003row7_col0\" class=\"data row7 col0\" >Neptune</td>\n",
       "                        <td id=\"T_e75a3ae8_59a5_11ea_8552_0242ac130003row7_col1\" class=\"data row7 col1\" >4495.1</td>\n",
       "                        <td id=\"T_e75a3ae8_59a5_11ea_8552_0242ac130003row7_col2\" class=\"data row7 col2\" >102</td>\n",
       "                        <td id=\"T_e75a3ae8_59a5_11ea_8552_0242ac130003row7_col3\" class=\"data row7 col3\" >1638</td>\n",
       "                        <td id=\"T_e75a3ae8_59a5_11ea_8552_0242ac130003row7_col4\" class=\"data row7 col4\" >11</td>\n",
       "                        <td id=\"T_e75a3ae8_59a5_11ea_8552_0242ac130003row7_col5\" class=\"data row7 col5\" >56.49%</td>\n",
       "            </tr>\n",
       "    </tbody></table>"
      ],
      "text/plain": [
       "<pandas.io.formats.style.Styler at 0x7ce27c948ef0>"
      ]
     },
     "execution_count": 28,
     "metadata": {},
     "output_type": "execute_result"
    }
   ],
   "source": [
    "planets_rel_change.style.format({\n",
    "    'distance_rel_change': '{:.2%}',\n",
    "})"
   ]
  },
  {
   "cell_type": "markdown",
   "metadata": {},
   "source": [
    "Note, in the above, we made use of another collection built into Python: the `dict`, or \"dictionary.\" The syntax of `dict` construction is simply:\n",
    "\n",
    "    {KEY0: VALUE0, …}\n",
    "\n",
    "Dictionaries are widely useful; but, here, you'll only see them as another means of associating keyword arguments with their values, analogous to how `assign` is called.\n",
    "\n",
    "We can also rename columns, in this case also for clarity, and again making use of a `dict`."
   ]
  },
  {
   "cell_type": "code",
   "execution_count": 29,
   "metadata": {},
   "outputs": [
    {
     "data": {
      "text/html": [
       "<style  type=\"text/css\" >\n",
       "</style><table id=\"T_e75f984e_59a5_11ea_8552_0242ac130003\" ><thead>    <tr>        <th class=\"blank level0\" ></th>        <th class=\"col_heading level0 col0\" >name</th>        <th class=\"col_heading level0 col1\" >solar_distance_km_6</th>        <th class=\"col_heading level0 col2\" >mass_kg_24</th>        <th class=\"col_heading level0 col3\" >density_kg_m3</th>        <th class=\"col_heading level0 col4\" >gravity_m_s2</th>        <th class=\"col_heading level0 col5\" >distance relative change</th>    </tr></thead><tbody>\n",
       "                <tr>\n",
       "                        <th id=\"T_e75f984e_59a5_11ea_8552_0242ac130003level0_row0\" class=\"row_heading level0 row0\" >0</th>\n",
       "                        <td id=\"T_e75f984e_59a5_11ea_8552_0242ac130003row0_col0\" class=\"data row0 col0\" >Mercury</td>\n",
       "                        <td id=\"T_e75f984e_59a5_11ea_8552_0242ac130003row0_col1\" class=\"data row0 col1\" >57.9</td>\n",
       "                        <td id=\"T_e75f984e_59a5_11ea_8552_0242ac130003row0_col2\" class=\"data row0 col2\" >0.33</td>\n",
       "                        <td id=\"T_e75f984e_59a5_11ea_8552_0242ac130003row0_col3\" class=\"data row0 col3\" >5427</td>\n",
       "                        <td id=\"T_e75f984e_59a5_11ea_8552_0242ac130003row0_col4\" class=\"data row0 col4\" >3.7</td>\n",
       "                        <td id=\"T_e75f984e_59a5_11ea_8552_0242ac130003row0_col5\" class=\"data row0 col5\" >nan%</td>\n",
       "            </tr>\n",
       "            <tr>\n",
       "                        <th id=\"T_e75f984e_59a5_11ea_8552_0242ac130003level0_row1\" class=\"row_heading level0 row1\" >1</th>\n",
       "                        <td id=\"T_e75f984e_59a5_11ea_8552_0242ac130003row1_col0\" class=\"data row1 col0\" >Venus</td>\n",
       "                        <td id=\"T_e75f984e_59a5_11ea_8552_0242ac130003row1_col1\" class=\"data row1 col1\" >108.2</td>\n",
       "                        <td id=\"T_e75f984e_59a5_11ea_8552_0242ac130003row1_col2\" class=\"data row1 col2\" >4.87</td>\n",
       "                        <td id=\"T_e75f984e_59a5_11ea_8552_0242ac130003row1_col3\" class=\"data row1 col3\" >5243</td>\n",
       "                        <td id=\"T_e75f984e_59a5_11ea_8552_0242ac130003row1_col4\" class=\"data row1 col4\" >8.9</td>\n",
       "                        <td id=\"T_e75f984e_59a5_11ea_8552_0242ac130003row1_col5\" class=\"data row1 col5\" >86.87%</td>\n",
       "            </tr>\n",
       "            <tr>\n",
       "                        <th id=\"T_e75f984e_59a5_11ea_8552_0242ac130003level0_row2\" class=\"row_heading level0 row2\" >2</th>\n",
       "                        <td id=\"T_e75f984e_59a5_11ea_8552_0242ac130003row2_col0\" class=\"data row2 col0\" >Earth</td>\n",
       "                        <td id=\"T_e75f984e_59a5_11ea_8552_0242ac130003row2_col1\" class=\"data row2 col1\" >149.6</td>\n",
       "                        <td id=\"T_e75f984e_59a5_11ea_8552_0242ac130003row2_col2\" class=\"data row2 col2\" >5.97</td>\n",
       "                        <td id=\"T_e75f984e_59a5_11ea_8552_0242ac130003row2_col3\" class=\"data row2 col3\" >5514</td>\n",
       "                        <td id=\"T_e75f984e_59a5_11ea_8552_0242ac130003row2_col4\" class=\"data row2 col4\" >9.8</td>\n",
       "                        <td id=\"T_e75f984e_59a5_11ea_8552_0242ac130003row2_col5\" class=\"data row2 col5\" >38.26%</td>\n",
       "            </tr>\n",
       "            <tr>\n",
       "                        <th id=\"T_e75f984e_59a5_11ea_8552_0242ac130003level0_row3\" class=\"row_heading level0 row3\" >3</th>\n",
       "                        <td id=\"T_e75f984e_59a5_11ea_8552_0242ac130003row3_col0\" class=\"data row3 col0\" >Mars</td>\n",
       "                        <td id=\"T_e75f984e_59a5_11ea_8552_0242ac130003row3_col1\" class=\"data row3 col1\" >227.9</td>\n",
       "                        <td id=\"T_e75f984e_59a5_11ea_8552_0242ac130003row3_col2\" class=\"data row3 col2\" >0.642</td>\n",
       "                        <td id=\"T_e75f984e_59a5_11ea_8552_0242ac130003row3_col3\" class=\"data row3 col3\" >3933</td>\n",
       "                        <td id=\"T_e75f984e_59a5_11ea_8552_0242ac130003row3_col4\" class=\"data row3 col4\" >3.7</td>\n",
       "                        <td id=\"T_e75f984e_59a5_11ea_8552_0242ac130003row3_col5\" class=\"data row3 col5\" >52.34%</td>\n",
       "            </tr>\n",
       "            <tr>\n",
       "                        <th id=\"T_e75f984e_59a5_11ea_8552_0242ac130003level0_row4\" class=\"row_heading level0 row4\" >4</th>\n",
       "                        <td id=\"T_e75f984e_59a5_11ea_8552_0242ac130003row4_col0\" class=\"data row4 col0\" >Jupiter</td>\n",
       "                        <td id=\"T_e75f984e_59a5_11ea_8552_0242ac130003row4_col1\" class=\"data row4 col1\" >778.6</td>\n",
       "                        <td id=\"T_e75f984e_59a5_11ea_8552_0242ac130003row4_col2\" class=\"data row4 col2\" >1898</td>\n",
       "                        <td id=\"T_e75f984e_59a5_11ea_8552_0242ac130003row4_col3\" class=\"data row4 col3\" >1326</td>\n",
       "                        <td id=\"T_e75f984e_59a5_11ea_8552_0242ac130003row4_col4\" class=\"data row4 col4\" >23.1</td>\n",
       "                        <td id=\"T_e75f984e_59a5_11ea_8552_0242ac130003row4_col5\" class=\"data row4 col5\" >241.64%</td>\n",
       "            </tr>\n",
       "            <tr>\n",
       "                        <th id=\"T_e75f984e_59a5_11ea_8552_0242ac130003level0_row5\" class=\"row_heading level0 row5\" >5</th>\n",
       "                        <td id=\"T_e75f984e_59a5_11ea_8552_0242ac130003row5_col0\" class=\"data row5 col0\" >Saturn</td>\n",
       "                        <td id=\"T_e75f984e_59a5_11ea_8552_0242ac130003row5_col1\" class=\"data row5 col1\" >1433.5</td>\n",
       "                        <td id=\"T_e75f984e_59a5_11ea_8552_0242ac130003row5_col2\" class=\"data row5 col2\" >568</td>\n",
       "                        <td id=\"T_e75f984e_59a5_11ea_8552_0242ac130003row5_col3\" class=\"data row5 col3\" >687</td>\n",
       "                        <td id=\"T_e75f984e_59a5_11ea_8552_0242ac130003row5_col4\" class=\"data row5 col4\" >9</td>\n",
       "                        <td id=\"T_e75f984e_59a5_11ea_8552_0242ac130003row5_col5\" class=\"data row5 col5\" >84.11%</td>\n",
       "            </tr>\n",
       "            <tr>\n",
       "                        <th id=\"T_e75f984e_59a5_11ea_8552_0242ac130003level0_row6\" class=\"row_heading level0 row6\" >6</th>\n",
       "                        <td id=\"T_e75f984e_59a5_11ea_8552_0242ac130003row6_col0\" class=\"data row6 col0\" >Uranus</td>\n",
       "                        <td id=\"T_e75f984e_59a5_11ea_8552_0242ac130003row6_col1\" class=\"data row6 col1\" >2872.5</td>\n",
       "                        <td id=\"T_e75f984e_59a5_11ea_8552_0242ac130003row6_col2\" class=\"data row6 col2\" >86.8</td>\n",
       "                        <td id=\"T_e75f984e_59a5_11ea_8552_0242ac130003row6_col3\" class=\"data row6 col3\" >1271</td>\n",
       "                        <td id=\"T_e75f984e_59a5_11ea_8552_0242ac130003row6_col4\" class=\"data row6 col4\" >8.7</td>\n",
       "                        <td id=\"T_e75f984e_59a5_11ea_8552_0242ac130003row6_col5\" class=\"data row6 col5\" >100.38%</td>\n",
       "            </tr>\n",
       "            <tr>\n",
       "                        <th id=\"T_e75f984e_59a5_11ea_8552_0242ac130003level0_row7\" class=\"row_heading level0 row7\" >7</th>\n",
       "                        <td id=\"T_e75f984e_59a5_11ea_8552_0242ac130003row7_col0\" class=\"data row7 col0\" >Neptune</td>\n",
       "                        <td id=\"T_e75f984e_59a5_11ea_8552_0242ac130003row7_col1\" class=\"data row7 col1\" >4495.1</td>\n",
       "                        <td id=\"T_e75f984e_59a5_11ea_8552_0242ac130003row7_col2\" class=\"data row7 col2\" >102</td>\n",
       "                        <td id=\"T_e75f984e_59a5_11ea_8552_0242ac130003row7_col3\" class=\"data row7 col3\" >1638</td>\n",
       "                        <td id=\"T_e75f984e_59a5_11ea_8552_0242ac130003row7_col4\" class=\"data row7 col4\" >11</td>\n",
       "                        <td id=\"T_e75f984e_59a5_11ea_8552_0242ac130003row7_col5\" class=\"data row7 col5\" >56.49%</td>\n",
       "            </tr>\n",
       "    </tbody></table>"
      ],
      "text/plain": [
       "<pandas.io.formats.style.Styler at 0x7ce27af039e8>"
      ]
     },
     "execution_count": 29,
     "metadata": {},
     "output_type": "execute_result"
    }
   ],
   "source": [
    "planets_rel_change = planets_rel_change.rename(\n",
    "    columns={\n",
    "        'distance_rel_change': 'distance relative change',\n",
    "    }\n",
    ")\n",
    "\n",
    "planets_rel_change.style.format({\n",
    "    'distance relative change': '{:.2%}',\n",
    "})"
   ]
  },
  {
   "cell_type": "markdown",
   "metadata": {},
   "source": [
    "Because we've added spaces to our column name, it's no longer valid in the syntax of Python, and so we can no longer refer to it as we have the other columns, such as `solar_distance_km_6`:"
   ]
  },
  {
   "cell_type": "code",
   "execution_count": 30,
   "metadata": {},
   "outputs": [
    {
     "data": {
      "text/plain": [
       "0      57.9\n",
       "1     108.2\n",
       "2     149.6\n",
       "3     227.9\n",
       "4     778.6\n",
       "5    1433.5\n",
       "6    2872.5\n",
       "7    4495.1\n",
       "Name: solar_distance_km_6, dtype: float64"
      ]
     },
     "execution_count": 30,
     "metadata": {},
     "output_type": "execute_result"
    }
   ],
   "source": [
    "planets_rel_change.solar_distance_km_6"
   ]
  },
  {
   "cell_type": "markdown",
   "metadata": {},
   "source": [
    "But, we can still refer to it using the alternate syntax mentioned above:"
   ]
  },
  {
   "cell_type": "code",
   "execution_count": 31,
   "metadata": {},
   "outputs": [
    {
     "data": {
      "text/plain": [
       "0         NaN\n",
       "1    0.868739\n",
       "2    0.382625\n",
       "3    0.523396\n",
       "4    2.416411\n",
       "5    0.841125\n",
       "6    1.003837\n",
       "7    0.564874\n",
       "Name: distance relative change, dtype: float64"
      ]
     },
     "execution_count": 31,
     "metadata": {},
     "output_type": "execute_result"
    }
   ],
   "source": [
    "planets_rel_change['distance relative change']"
   ]
  },
  {
   "cell_type": "markdown",
   "metadata": {},
   "source": [
    "## Selection by label\n",
    "\n",
    "With `iloc`, we were able to slice rows of our data, selecting out individuals, according to their numeric position in the index. We can also select rows *and* columns, selecting subsets of features, (and much more!), thanks to `loc`.\n",
    "\n",
    "Let's begin by providing our `DataFrame` a more natural row index for the planets. Indexes may be modified after the fact or provided during construction."
   ]
  },
  {
   "cell_type": "code",
   "execution_count": 32,
   "metadata": {},
   "outputs": [
    {
     "data": {
      "text/html": [
       "<div>\n",
       "<style scoped>\n",
       "    .dataframe tbody tr th:only-of-type {\n",
       "        vertical-align: middle;\n",
       "    }\n",
       "\n",
       "    .dataframe tbody tr th {\n",
       "        vertical-align: top;\n",
       "    }\n",
       "\n",
       "    .dataframe thead th {\n",
       "        text-align: right;\n",
       "    }\n",
       "</style>\n",
       "<table border=\"1\" class=\"dataframe\">\n",
       "  <thead>\n",
       "    <tr style=\"text-align: right;\">\n",
       "      <th></th>\n",
       "      <th>name</th>\n",
       "      <th>solar_distance_km_6</th>\n",
       "      <th>mass_kg_24</th>\n",
       "      <th>density_kg_m3</th>\n",
       "      <th>gravity_m_s2</th>\n",
       "    </tr>\n",
       "    <tr>\n",
       "      <th>number</th>\n",
       "      <th></th>\n",
       "      <th></th>\n",
       "      <th></th>\n",
       "      <th></th>\n",
       "      <th></th>\n",
       "    </tr>\n",
       "  </thead>\n",
       "  <tbody>\n",
       "    <tr>\n",
       "      <td>1</td>\n",
       "      <td>Mercury</td>\n",
       "      <td>57.9</td>\n",
       "      <td>0.330</td>\n",
       "      <td>5427.0</td>\n",
       "      <td>3.7</td>\n",
       "    </tr>\n",
       "    <tr>\n",
       "      <td>2</td>\n",
       "      <td>Venus</td>\n",
       "      <td>108.2</td>\n",
       "      <td>4.870</td>\n",
       "      <td>5243.0</td>\n",
       "      <td>8.9</td>\n",
       "    </tr>\n",
       "    <tr>\n",
       "      <td>3</td>\n",
       "      <td>Earth</td>\n",
       "      <td>149.6</td>\n",
       "      <td>5.970</td>\n",
       "      <td>5514.0</td>\n",
       "      <td>9.8</td>\n",
       "    </tr>\n",
       "    <tr>\n",
       "      <td>4</td>\n",
       "      <td>Mars</td>\n",
       "      <td>227.9</td>\n",
       "      <td>0.642</td>\n",
       "      <td>3933.0</td>\n",
       "      <td>3.7</td>\n",
       "    </tr>\n",
       "    <tr>\n",
       "      <td>5</td>\n",
       "      <td>Jupiter</td>\n",
       "      <td>778.6</td>\n",
       "      <td>1898.000</td>\n",
       "      <td>1326.0</td>\n",
       "      <td>23.1</td>\n",
       "    </tr>\n",
       "    <tr>\n",
       "      <td>6</td>\n",
       "      <td>Saturn</td>\n",
       "      <td>1433.5</td>\n",
       "      <td>568.000</td>\n",
       "      <td>687.0</td>\n",
       "      <td>9.0</td>\n",
       "    </tr>\n",
       "    <tr>\n",
       "      <td>7</td>\n",
       "      <td>Uranus</td>\n",
       "      <td>2872.5</td>\n",
       "      <td>86.800</td>\n",
       "      <td>1271.0</td>\n",
       "      <td>8.7</td>\n",
       "    </tr>\n",
       "    <tr>\n",
       "      <td>8</td>\n",
       "      <td>Neptune</td>\n",
       "      <td>4495.1</td>\n",
       "      <td>102.000</td>\n",
       "      <td>1638.0</td>\n",
       "      <td>11.0</td>\n",
       "    </tr>\n",
       "  </tbody>\n",
       "</table>\n",
       "</div>"
      ],
      "text/plain": [
       "           name  solar_distance_km_6  mass_kg_24  density_kg_m3  gravity_m_s2\n",
       "number                                                                       \n",
       "1       Mercury                 57.9       0.330         5427.0           3.7\n",
       "2         Venus                108.2       4.870         5243.0           8.9\n",
       "3         Earth                149.6       5.970         5514.0           9.8\n",
       "4          Mars                227.9       0.642         3933.0           3.7\n",
       "5       Jupiter                778.6    1898.000         1326.0          23.1\n",
       "6        Saturn               1433.5     568.000          687.0           9.0\n",
       "7        Uranus               2872.5      86.800         1271.0           8.7\n",
       "8       Neptune               4495.1     102.000         1638.0          11.0"
      ]
     },
     "execution_count": 32,
     "metadata": {},
     "output_type": "execute_result"
    }
   ],
   "source": [
    "planets = pd.DataFrame(planets_data,\n",
    "                       columns=planets_features,\n",
    "                       index=pd.RangeIndex(1, 9, name='number'))\n",
    "\n",
    "planets"
   ]
  },
  {
   "cell_type": "markdown",
   "metadata": {},
   "source": [
    "With `iloc`, we retrieve the third individual from this `DataFrame` by specifying the offset `2`."
   ]
  },
  {
   "cell_type": "code",
   "execution_count": 33,
   "metadata": {},
   "outputs": [
    {
     "data": {
      "text/plain": [
       "name                   Earth\n",
       "solar_distance_km_6    149.6\n",
       "mass_kg_24              5.97\n",
       "density_kg_m3           5514\n",
       "gravity_m_s2             9.8\n",
       "Name: 3, dtype: object"
      ]
     },
     "execution_count": 33,
     "metadata": {},
     "output_type": "execute_result"
    }
   ],
   "source": [
    "planets.iloc[2]"
   ]
  },
  {
   "cell_type": "markdown",
   "metadata": {},
   "source": [
    "But with `loc`, we can retrieve this individual – Earth – by its index value or row label – now `3`."
   ]
  },
  {
   "cell_type": "code",
   "execution_count": 34,
   "metadata": {},
   "outputs": [
    {
     "data": {
      "text/plain": [
       "name                   Earth\n",
       "solar_distance_km_6    149.6\n",
       "mass_kg_24              5.97\n",
       "density_kg_m3           5514\n",
       "gravity_m_s2             9.8\n",
       "Name: 3, dtype: object"
      ]
     },
     "execution_count": 34,
     "metadata": {},
     "output_type": "execute_result"
    }
   ],
   "source": [
    "planets.loc[3]"
   ]
  },
  {
   "cell_type": "markdown",
   "metadata": {},
   "source": [
    "While numeric indexes are often more practical, we can further distinguish these individuals' labels in the row index by using familiar strings instead."
   ]
  },
  {
   "cell_type": "code",
   "execution_count": 35,
   "metadata": {},
   "outputs": [
    {
     "data": {
      "text/html": [
       "<div>\n",
       "<style scoped>\n",
       "    .dataframe tbody tr th:only-of-type {\n",
       "        vertical-align: middle;\n",
       "    }\n",
       "\n",
       "    .dataframe tbody tr th {\n",
       "        vertical-align: top;\n",
       "    }\n",
       "\n",
       "    .dataframe thead th {\n",
       "        text-align: right;\n",
       "    }\n",
       "</style>\n",
       "<table border=\"1\" class=\"dataframe\">\n",
       "  <thead>\n",
       "    <tr style=\"text-align: right;\">\n",
       "      <th></th>\n",
       "      <th>name</th>\n",
       "      <th>solar_distance_km_6</th>\n",
       "      <th>mass_kg_24</th>\n",
       "      <th>density_kg_m3</th>\n",
       "      <th>gravity_m_s2</th>\n",
       "    </tr>\n",
       "    <tr>\n",
       "      <th>ordinal</th>\n",
       "      <th></th>\n",
       "      <th></th>\n",
       "      <th></th>\n",
       "      <th></th>\n",
       "      <th></th>\n",
       "    </tr>\n",
       "  </thead>\n",
       "  <tbody>\n",
       "    <tr>\n",
       "      <td>first</td>\n",
       "      <td>Mercury</td>\n",
       "      <td>57.9</td>\n",
       "      <td>0.330</td>\n",
       "      <td>5427.0</td>\n",
       "      <td>3.7</td>\n",
       "    </tr>\n",
       "    <tr>\n",
       "      <td>second</td>\n",
       "      <td>Venus</td>\n",
       "      <td>108.2</td>\n",
       "      <td>4.870</td>\n",
       "      <td>5243.0</td>\n",
       "      <td>8.9</td>\n",
       "    </tr>\n",
       "    <tr>\n",
       "      <td>third</td>\n",
       "      <td>Earth</td>\n",
       "      <td>149.6</td>\n",
       "      <td>5.970</td>\n",
       "      <td>5514.0</td>\n",
       "      <td>9.8</td>\n",
       "    </tr>\n",
       "    <tr>\n",
       "      <td>fourth</td>\n",
       "      <td>Mars</td>\n",
       "      <td>227.9</td>\n",
       "      <td>0.642</td>\n",
       "      <td>3933.0</td>\n",
       "      <td>3.7</td>\n",
       "    </tr>\n",
       "    <tr>\n",
       "      <td>fifth</td>\n",
       "      <td>Jupiter</td>\n",
       "      <td>778.6</td>\n",
       "      <td>1898.000</td>\n",
       "      <td>1326.0</td>\n",
       "      <td>23.1</td>\n",
       "    </tr>\n",
       "    <tr>\n",
       "      <td>sixth</td>\n",
       "      <td>Saturn</td>\n",
       "      <td>1433.5</td>\n",
       "      <td>568.000</td>\n",
       "      <td>687.0</td>\n",
       "      <td>9.0</td>\n",
       "    </tr>\n",
       "    <tr>\n",
       "      <td>seventh</td>\n",
       "      <td>Uranus</td>\n",
       "      <td>2872.5</td>\n",
       "      <td>86.800</td>\n",
       "      <td>1271.0</td>\n",
       "      <td>8.7</td>\n",
       "    </tr>\n",
       "    <tr>\n",
       "      <td>eighth</td>\n",
       "      <td>Neptune</td>\n",
       "      <td>4495.1</td>\n",
       "      <td>102.000</td>\n",
       "      <td>1638.0</td>\n",
       "      <td>11.0</td>\n",
       "    </tr>\n",
       "  </tbody>\n",
       "</table>\n",
       "</div>"
      ],
      "text/plain": [
       "            name  solar_distance_km_6  mass_kg_24  density_kg_m3  gravity_m_s2\n",
       "ordinal                                                                       \n",
       "first    Mercury                 57.9       0.330         5427.0           3.7\n",
       "second     Venus                108.2       4.870         5243.0           8.9\n",
       "third      Earth                149.6       5.970         5514.0           9.8\n",
       "fourth      Mars                227.9       0.642         3933.0           3.7\n",
       "fifth    Jupiter                778.6    1898.000         1326.0          23.1\n",
       "sixth     Saturn               1433.5     568.000          687.0           9.0\n",
       "seventh   Uranus               2872.5      86.800         1271.0           8.7\n",
       "eighth   Neptune               4495.1     102.000         1638.0          11.0"
      ]
     },
     "execution_count": 35,
     "metadata": {},
     "output_type": "execute_result"
    }
   ],
   "source": [
    "ordinals = ['first', 'second', 'third', 'fourth', 'fifth', 'sixth', 'seventh', 'eighth']\n",
    "\n",
    "planet_ordinals = pd.DataFrame(planets_data,\n",
    "                               columns=planets_features,\n",
    "                               index=pd.Index(ordinals, name='ordinal'))\n",
    "\n",
    "planet_ordinals"
   ]
  },
  {
   "cell_type": "markdown",
   "metadata": {},
   "source": [
    "`loc` supports the same selection features as `iloc`, such as slicing, even as it considers labels rather than offsets."
   ]
  },
  {
   "cell_type": "code",
   "execution_count": 36,
   "metadata": {},
   "outputs": [
    {
     "data": {
      "text/html": [
       "<div>\n",
       "<style scoped>\n",
       "    .dataframe tbody tr th:only-of-type {\n",
       "        vertical-align: middle;\n",
       "    }\n",
       "\n",
       "    .dataframe tbody tr th {\n",
       "        vertical-align: top;\n",
       "    }\n",
       "\n",
       "    .dataframe thead th {\n",
       "        text-align: right;\n",
       "    }\n",
       "</style>\n",
       "<table border=\"1\" class=\"dataframe\">\n",
       "  <thead>\n",
       "    <tr style=\"text-align: right;\">\n",
       "      <th></th>\n",
       "      <th>name</th>\n",
       "      <th>solar_distance_km_6</th>\n",
       "      <th>mass_kg_24</th>\n",
       "      <th>density_kg_m3</th>\n",
       "      <th>gravity_m_s2</th>\n",
       "    </tr>\n",
       "    <tr>\n",
       "      <th>ordinal</th>\n",
       "      <th></th>\n",
       "      <th></th>\n",
       "      <th></th>\n",
       "      <th></th>\n",
       "      <th></th>\n",
       "    </tr>\n",
       "  </thead>\n",
       "  <tbody>\n",
       "    <tr>\n",
       "      <td>third</td>\n",
       "      <td>Earth</td>\n",
       "      <td>149.6</td>\n",
       "      <td>5.970</td>\n",
       "      <td>5514.0</td>\n",
       "      <td>9.8</td>\n",
       "    </tr>\n",
       "    <tr>\n",
       "      <td>fourth</td>\n",
       "      <td>Mars</td>\n",
       "      <td>227.9</td>\n",
       "      <td>0.642</td>\n",
       "      <td>3933.0</td>\n",
       "      <td>3.7</td>\n",
       "    </tr>\n",
       "    <tr>\n",
       "      <td>fifth</td>\n",
       "      <td>Jupiter</td>\n",
       "      <td>778.6</td>\n",
       "      <td>1898.000</td>\n",
       "      <td>1326.0</td>\n",
       "      <td>23.1</td>\n",
       "    </tr>\n",
       "    <tr>\n",
       "      <td>sixth</td>\n",
       "      <td>Saturn</td>\n",
       "      <td>1433.5</td>\n",
       "      <td>568.000</td>\n",
       "      <td>687.0</td>\n",
       "      <td>9.0</td>\n",
       "    </tr>\n",
       "  </tbody>\n",
       "</table>\n",
       "</div>"
      ],
      "text/plain": [
       "            name  solar_distance_km_6  mass_kg_24  density_kg_m3  gravity_m_s2\n",
       "ordinal                                                                       \n",
       "third      Earth                149.6       5.970         5514.0           9.8\n",
       "fourth      Mars                227.9       0.642         3933.0           3.7\n",
       "fifth    Jupiter                778.6    1898.000         1326.0          23.1\n",
       "sixth     Saturn               1433.5     568.000          687.0           9.0"
      ]
     },
     "execution_count": 36,
     "metadata": {},
     "output_type": "execute_result"
    }
   ],
   "source": [
    "middle_planets = planet_ordinals.loc['third':'sixth']\n",
    "\n",
    "middle_planets"
   ]
  },
  {
   "cell_type": "markdown",
   "metadata": {},
   "source": [
    "**But watch out!** In the above example, `loc` interpreted our slice differently than `iloc` – *both* the elements at the slice `start` and `stop` were included in the results. This is convenient, because labels aren't necessarily incremental; we may not have in mind the label *following* the last one we want. Nonetheless, this is an inconsistency.\n",
    "\n",
    "That said, `loc` resolves the inconsistency of the reference used in selecting out individuals from slices of the original `DataFrame`."
   ]
  },
  {
   "cell_type": "code",
   "execution_count": 37,
   "metadata": {},
   "outputs": [
    {
     "data": {
      "text/plain": [
       "name                   Earth\n",
       "solar_distance_km_6    149.6\n",
       "mass_kg_24              5.97\n",
       "density_kg_m3           5514\n",
       "gravity_m_s2             9.8\n",
       "Name: third, dtype: object"
      ]
     },
     "execution_count": 37,
     "metadata": {},
     "output_type": "execute_result"
    }
   ],
   "source": [
    "middle_planets.iloc[0]"
   ]
  },
  {
   "cell_type": "markdown",
   "metadata": {},
   "source": [
    "Using `iloc` we must refer to Earth as the \"zeroeth\" (zero-offset or \"first\") in the above data subset named `middle_planets`…"
   ]
  },
  {
   "cell_type": "code",
   "execution_count": 38,
   "metadata": {},
   "outputs": [
    {
     "data": {
      "text/plain": [
       "name                   Earth\n",
       "solar_distance_km_6    149.6\n",
       "mass_kg_24              5.97\n",
       "density_kg_m3           5514\n",
       "gravity_m_s2             9.8\n",
       "Name: third, dtype: object"
      ]
     },
     "execution_count": 38,
     "metadata": {},
     "output_type": "execute_result"
    }
   ],
   "source": [
    "middle_planets.loc['third']"
   ]
  },
  {
   "cell_type": "markdown",
   "metadata": {},
   "source": [
    "…but using `loc`, we may continue to refer to Earth as the \"third\" planet from the sun."
   ]
  },
  {
   "cell_type": "markdown",
   "metadata": {},
   "source": [
    "In addition to selecting out individuals by row label, `loc` also allows us to select features by column label.\n",
    "\n",
    "Say we wanted to contextualize `distance_pct_change`, reproducing that `DataFrame`, but this time with only the most-relevant columns, `name` and `solar_distance_km_6`. Bear in mind that there are many ways about this! But the `assign` method, at least, enables us to create a new `DataFrame` from an existing one; while, our existing `DataFrame` of the planets contains the \"offending\" columns. To start, we want a `DataFrame` containing only those two columns.\n",
    "\n",
    "When we've focused on singular features before, such as the `name` data, it hasn't been a `DataFrame` – it's a `Series`."
   ]
  },
  {
   "cell_type": "code",
   "execution_count": 39,
   "metadata": {},
   "outputs": [
    {
     "data": {
      "text/plain": [
       "number\n",
       "1    Mercury\n",
       "2      Venus\n",
       "3      Earth\n",
       "4       Mars\n",
       "5    Jupiter\n",
       "6     Saturn\n",
       "7     Uranus\n",
       "8    Neptune\n",
       "Name: name, dtype: object"
      ]
     },
     "execution_count": 39,
     "metadata": {},
     "output_type": "execute_result"
    }
   ],
   "source": [
    "planets.name"
   ]
  },
  {
   "cell_type": "code",
   "execution_count": 40,
   "metadata": {},
   "outputs": [
    {
     "data": {
      "text/plain": [
       "pandas.core.series.Series"
      ]
     },
     "execution_count": 40,
     "metadata": {},
     "output_type": "execute_result"
    }
   ],
   "source": [
    "type(planets.name)"
   ]
  },
  {
   "cell_type": "code",
   "execution_count": 41,
   "metadata": {},
   "outputs": [
    {
     "ename": "AttributeError",
     "evalue": "'Series' object has no attribute 'assign'",
     "output_type": "error",
     "traceback": [
      "\u001b[0;31m---------------------------------------------------------------------------\u001b[0m",
      "\u001b[0;31mAttributeError\u001b[0m                            Traceback (most recent call last)",
      "\u001b[0;32m<ipython-input-41-6e505a852e2e>\u001b[0m in \u001b[0;36m<module>\u001b[0;34m\u001b[0m\n\u001b[0;32m----> 1\u001b[0;31m \u001b[0mplanets\u001b[0m\u001b[0;34m.\u001b[0m\u001b[0mname\u001b[0m\u001b[0;34m.\u001b[0m\u001b[0massign\u001b[0m\u001b[0;34m(\u001b[0m\u001b[0mdistance_pct_change\u001b[0m\u001b[0;34m=\u001b[0m\u001b[0mdistance_pct_change\u001b[0m\u001b[0;34m)\u001b[0m\u001b[0;34m\u001b[0m\u001b[0;34m\u001b[0m\u001b[0m\n\u001b[0m",
      "\u001b[0;32m/opt/conda/lib/python3.7/site-packages/pandas/core/generic.py\u001b[0m in \u001b[0;36m__getattr__\u001b[0;34m(self, name)\u001b[0m\n\u001b[1;32m   5177\u001b[0m             \u001b[0;32mif\u001b[0m \u001b[0mself\u001b[0m\u001b[0;34m.\u001b[0m\u001b[0m_info_axis\u001b[0m\u001b[0;34m.\u001b[0m\u001b[0m_can_hold_identifiers_and_holds_name\u001b[0m\u001b[0;34m(\u001b[0m\u001b[0mname\u001b[0m\u001b[0;34m)\u001b[0m\u001b[0;34m:\u001b[0m\u001b[0;34m\u001b[0m\u001b[0;34m\u001b[0m\u001b[0m\n\u001b[1;32m   5178\u001b[0m                 \u001b[0;32mreturn\u001b[0m \u001b[0mself\u001b[0m\u001b[0;34m[\u001b[0m\u001b[0mname\u001b[0m\u001b[0;34m]\u001b[0m\u001b[0;34m\u001b[0m\u001b[0;34m\u001b[0m\u001b[0m\n\u001b[0;32m-> 5179\u001b[0;31m             \u001b[0;32mreturn\u001b[0m \u001b[0mobject\u001b[0m\u001b[0;34m.\u001b[0m\u001b[0m__getattribute__\u001b[0m\u001b[0;34m(\u001b[0m\u001b[0mself\u001b[0m\u001b[0;34m,\u001b[0m \u001b[0mname\u001b[0m\u001b[0;34m)\u001b[0m\u001b[0;34m\u001b[0m\u001b[0;34m\u001b[0m\u001b[0m\n\u001b[0m\u001b[1;32m   5180\u001b[0m \u001b[0;34m\u001b[0m\u001b[0m\n\u001b[1;32m   5181\u001b[0m     \u001b[0;32mdef\u001b[0m \u001b[0m__setattr__\u001b[0m\u001b[0;34m(\u001b[0m\u001b[0mself\u001b[0m\u001b[0;34m,\u001b[0m \u001b[0mname\u001b[0m\u001b[0;34m,\u001b[0m \u001b[0mvalue\u001b[0m\u001b[0;34m)\u001b[0m\u001b[0;34m:\u001b[0m\u001b[0;34m\u001b[0m\u001b[0;34m\u001b[0m\u001b[0m\n",
      "\u001b[0;31mAttributeError\u001b[0m: 'Series' object has no attribute 'assign'"
     ]
    }
   ],
   "source": [
    "planets.name.assign(distance_pct_change=distance_pct_change)"
   ]
  },
  {
   "cell_type": "markdown",
   "metadata": {},
   "source": [
    "Well, *that* didn't work….\n",
    "\n",
    "Instead, let's use `loc` to slice our `DataFrame` along its columns – and create a `DataFrame` with only the features we want.\n",
    "\n",
    "Unlike what we've seen so far, element retrieval from the `loc` property can accept multiple arguments.\n",
    "\n",
    "1. The first argument indicates row(s) to select – as above, by label, rather than offset.\n",
    "1. The second argument does the same, but for column(s).\n",
    "\n",
    "Because these arguments are positional, we can't provide the second argument without also providing the first. Luckily, we needn't supply arguments to the slice itself, so indicating that a new sequence should be constructed from the same elements. With `loc` that looks like:"
   ]
  },
  {
   "cell_type": "code",
   "execution_count": 42,
   "metadata": {},
   "outputs": [
    {
     "data": {
      "text/html": [
       "<div>\n",
       "<style scoped>\n",
       "    .dataframe tbody tr th:only-of-type {\n",
       "        vertical-align: middle;\n",
       "    }\n",
       "\n",
       "    .dataframe tbody tr th {\n",
       "        vertical-align: top;\n",
       "    }\n",
       "\n",
       "    .dataframe thead th {\n",
       "        text-align: right;\n",
       "    }\n",
       "</style>\n",
       "<table border=\"1\" class=\"dataframe\">\n",
       "  <thead>\n",
       "    <tr style=\"text-align: right;\">\n",
       "      <th></th>\n",
       "      <th>name</th>\n",
       "      <th>solar_distance_km_6</th>\n",
       "      <th>mass_kg_24</th>\n",
       "      <th>density_kg_m3</th>\n",
       "      <th>gravity_m_s2</th>\n",
       "    </tr>\n",
       "    <tr>\n",
       "      <th>number</th>\n",
       "      <th></th>\n",
       "      <th></th>\n",
       "      <th></th>\n",
       "      <th></th>\n",
       "      <th></th>\n",
       "    </tr>\n",
       "  </thead>\n",
       "  <tbody>\n",
       "    <tr>\n",
       "      <td>1</td>\n",
       "      <td>Mercury</td>\n",
       "      <td>57.9</td>\n",
       "      <td>0.330</td>\n",
       "      <td>5427.0</td>\n",
       "      <td>3.7</td>\n",
       "    </tr>\n",
       "    <tr>\n",
       "      <td>2</td>\n",
       "      <td>Venus</td>\n",
       "      <td>108.2</td>\n",
       "      <td>4.870</td>\n",
       "      <td>5243.0</td>\n",
       "      <td>8.9</td>\n",
       "    </tr>\n",
       "    <tr>\n",
       "      <td>3</td>\n",
       "      <td>Earth</td>\n",
       "      <td>149.6</td>\n",
       "      <td>5.970</td>\n",
       "      <td>5514.0</td>\n",
       "      <td>9.8</td>\n",
       "    </tr>\n",
       "    <tr>\n",
       "      <td>4</td>\n",
       "      <td>Mars</td>\n",
       "      <td>227.9</td>\n",
       "      <td>0.642</td>\n",
       "      <td>3933.0</td>\n",
       "      <td>3.7</td>\n",
       "    </tr>\n",
       "    <tr>\n",
       "      <td>5</td>\n",
       "      <td>Jupiter</td>\n",
       "      <td>778.6</td>\n",
       "      <td>1898.000</td>\n",
       "      <td>1326.0</td>\n",
       "      <td>23.1</td>\n",
       "    </tr>\n",
       "    <tr>\n",
       "      <td>6</td>\n",
       "      <td>Saturn</td>\n",
       "      <td>1433.5</td>\n",
       "      <td>568.000</td>\n",
       "      <td>687.0</td>\n",
       "      <td>9.0</td>\n",
       "    </tr>\n",
       "    <tr>\n",
       "      <td>7</td>\n",
       "      <td>Uranus</td>\n",
       "      <td>2872.5</td>\n",
       "      <td>86.800</td>\n",
       "      <td>1271.0</td>\n",
       "      <td>8.7</td>\n",
       "    </tr>\n",
       "    <tr>\n",
       "      <td>8</td>\n",
       "      <td>Neptune</td>\n",
       "      <td>4495.1</td>\n",
       "      <td>102.000</td>\n",
       "      <td>1638.0</td>\n",
       "      <td>11.0</td>\n",
       "    </tr>\n",
       "  </tbody>\n",
       "</table>\n",
       "</div>"
      ],
      "text/plain": [
       "           name  solar_distance_km_6  mass_kg_24  density_kg_m3  gravity_m_s2\n",
       "number                                                                       \n",
       "1       Mercury                 57.9       0.330         5427.0           3.7\n",
       "2         Venus                108.2       4.870         5243.0           8.9\n",
       "3         Earth                149.6       5.970         5514.0           9.8\n",
       "4          Mars                227.9       0.642         3933.0           3.7\n",
       "5       Jupiter                778.6    1898.000         1326.0          23.1\n",
       "6        Saturn               1433.5     568.000          687.0           9.0\n",
       "7        Uranus               2872.5      86.800         1271.0           8.7\n",
       "8       Neptune               4495.1     102.000         1638.0          11.0"
      ]
     },
     "execution_count": 42,
     "metadata": {},
     "output_type": "execute_result"
    }
   ],
   "source": [
    "planets.loc[:, :]"
   ]
  },
  {
   "cell_type": "markdown",
   "metadata": {},
   "source": [
    "Further, we can supply just a column label. If our row slice is empty, then this is yet another way to retrieve the complete `Series` of data for this feature:"
   ]
  },
  {
   "cell_type": "code",
   "execution_count": 43,
   "metadata": {},
   "outputs": [
    {
     "data": {
      "text/plain": [
       "number\n",
       "1    Mercury\n",
       "2      Venus\n",
       "3      Earth\n",
       "4       Mars\n",
       "5    Jupiter\n",
       "6     Saturn\n",
       "7     Uranus\n",
       "8    Neptune\n",
       "Name: name, dtype: object"
      ]
     },
     "execution_count": 43,
     "metadata": {},
     "output_type": "execute_result"
    }
   ],
   "source": [
    "planets.loc[:, 'name']"
   ]
  },
  {
   "cell_type": "markdown",
   "metadata": {},
   "source": [
    "More relevant, we can suply a `list` of the features to select."
   ]
  },
  {
   "cell_type": "code",
   "execution_count": 44,
   "metadata": {},
   "outputs": [
    {
     "data": {
      "text/html": [
       "<div>\n",
       "<style scoped>\n",
       "    .dataframe tbody tr th:only-of-type {\n",
       "        vertical-align: middle;\n",
       "    }\n",
       "\n",
       "    .dataframe tbody tr th {\n",
       "        vertical-align: top;\n",
       "    }\n",
       "\n",
       "    .dataframe thead th {\n",
       "        text-align: right;\n",
       "    }\n",
       "</style>\n",
       "<table border=\"1\" class=\"dataframe\">\n",
       "  <thead>\n",
       "    <tr style=\"text-align: right;\">\n",
       "      <th></th>\n",
       "      <th>name</th>\n",
       "    </tr>\n",
       "    <tr>\n",
       "      <th>number</th>\n",
       "      <th></th>\n",
       "    </tr>\n",
       "  </thead>\n",
       "  <tbody>\n",
       "    <tr>\n",
       "      <td>1</td>\n",
       "      <td>Mercury</td>\n",
       "    </tr>\n",
       "    <tr>\n",
       "      <td>2</td>\n",
       "      <td>Venus</td>\n",
       "    </tr>\n",
       "    <tr>\n",
       "      <td>3</td>\n",
       "      <td>Earth</td>\n",
       "    </tr>\n",
       "    <tr>\n",
       "      <td>4</td>\n",
       "      <td>Mars</td>\n",
       "    </tr>\n",
       "    <tr>\n",
       "      <td>5</td>\n",
       "      <td>Jupiter</td>\n",
       "    </tr>\n",
       "    <tr>\n",
       "      <td>6</td>\n",
       "      <td>Saturn</td>\n",
       "    </tr>\n",
       "    <tr>\n",
       "      <td>7</td>\n",
       "      <td>Uranus</td>\n",
       "    </tr>\n",
       "    <tr>\n",
       "      <td>8</td>\n",
       "      <td>Neptune</td>\n",
       "    </tr>\n",
       "  </tbody>\n",
       "</table>\n",
       "</div>"
      ],
      "text/plain": [
       "           name\n",
       "number         \n",
       "1       Mercury\n",
       "2         Venus\n",
       "3         Earth\n",
       "4          Mars\n",
       "5       Jupiter\n",
       "6        Saturn\n",
       "7        Uranus\n",
       "8       Neptune"
      ]
     },
     "execution_count": 44,
     "metadata": {},
     "output_type": "execute_result"
    }
   ],
   "source": [
    "planets.loc[:, ['name']]"
   ]
  },
  {
   "cell_type": "markdown",
   "metadata": {},
   "source": [
    "And now we know how to produce the two-feature `DataFrame` we were looking for."
   ]
  },
  {
   "cell_type": "code",
   "execution_count": 45,
   "metadata": {},
   "outputs": [
    {
     "data": {
      "text/html": [
       "<div>\n",
       "<style scoped>\n",
       "    .dataframe tbody tr th:only-of-type {\n",
       "        vertical-align: middle;\n",
       "    }\n",
       "\n",
       "    .dataframe tbody tr th {\n",
       "        vertical-align: top;\n",
       "    }\n",
       "\n",
       "    .dataframe thead th {\n",
       "        text-align: right;\n",
       "    }\n",
       "</style>\n",
       "<table border=\"1\" class=\"dataframe\">\n",
       "  <thead>\n",
       "    <tr style=\"text-align: right;\">\n",
       "      <th></th>\n",
       "      <th>name</th>\n",
       "      <th>solar_distance_km_6</th>\n",
       "      <th>distance_pct_change</th>\n",
       "    </tr>\n",
       "    <tr>\n",
       "      <th>number</th>\n",
       "      <th></th>\n",
       "      <th></th>\n",
       "      <th></th>\n",
       "    </tr>\n",
       "  </thead>\n",
       "  <tbody>\n",
       "    <tr>\n",
       "      <td>1</td>\n",
       "      <td>Mercury</td>\n",
       "      <td>57.9</td>\n",
       "      <td>86.873921</td>\n",
       "    </tr>\n",
       "    <tr>\n",
       "      <td>2</td>\n",
       "      <td>Venus</td>\n",
       "      <td>108.2</td>\n",
       "      <td>38.262477</td>\n",
       "    </tr>\n",
       "    <tr>\n",
       "      <td>3</td>\n",
       "      <td>Earth</td>\n",
       "      <td>149.6</td>\n",
       "      <td>52.339572</td>\n",
       "    </tr>\n",
       "    <tr>\n",
       "      <td>4</td>\n",
       "      <td>Mars</td>\n",
       "      <td>227.9</td>\n",
       "      <td>241.641071</td>\n",
       "    </tr>\n",
       "    <tr>\n",
       "      <td>5</td>\n",
       "      <td>Jupiter</td>\n",
       "      <td>778.6</td>\n",
       "      <td>84.112510</td>\n",
       "    </tr>\n",
       "    <tr>\n",
       "      <td>6</td>\n",
       "      <td>Saturn</td>\n",
       "      <td>1433.5</td>\n",
       "      <td>100.383676</td>\n",
       "    </tr>\n",
       "    <tr>\n",
       "      <td>7</td>\n",
       "      <td>Uranus</td>\n",
       "      <td>2872.5</td>\n",
       "      <td>56.487380</td>\n",
       "    </tr>\n",
       "    <tr>\n",
       "      <td>8</td>\n",
       "      <td>Neptune</td>\n",
       "      <td>4495.1</td>\n",
       "      <td>NaN</td>\n",
       "    </tr>\n",
       "  </tbody>\n",
       "</table>\n",
       "</div>"
      ],
      "text/plain": [
       "           name  solar_distance_km_6  distance_pct_change\n",
       "number                                                   \n",
       "1       Mercury                 57.9            86.873921\n",
       "2         Venus                108.2            38.262477\n",
       "3         Earth                149.6            52.339572\n",
       "4          Mars                227.9           241.641071\n",
       "5       Jupiter                778.6            84.112510\n",
       "6        Saturn               1433.5           100.383676\n",
       "7        Uranus               2872.5            56.487380\n",
       "8       Neptune               4495.1                  NaN"
      ]
     },
     "execution_count": 45,
     "metadata": {},
     "output_type": "execute_result"
    }
   ],
   "source": [
    "planet_distances = planets.loc[:, ['name', 'solar_distance_km_6']]\n",
    "\n",
    "planet_distances.assign(distance_pct_change=distance_pct_change)"
   ]
  },
  {
   "cell_type": "markdown",
   "metadata": {},
   "source": [
    "**But that's not right!** Let's take another look at `distance_pct_change`."
   ]
  },
  {
   "cell_type": "code",
   "execution_count": 46,
   "metadata": {},
   "outputs": [
    {
     "data": {
      "text/plain": [
       "0           NaN\n",
       "1     86.873921\n",
       "2     38.262477\n",
       "3     52.339572\n",
       "4    241.641071\n",
       "5     84.112510\n",
       "6    100.383676\n",
       "7     56.487380\n",
       "Name: solar_distance_km_6, dtype: float64"
      ]
     },
     "execution_count": 46,
     "metadata": {},
     "output_type": "execute_result"
    }
   ],
   "source": [
    "distance_pct_change"
   ]
  },
  {
   "cell_type": "markdown",
   "metadata": {},
   "source": [
    "Indeed, we've changed the index of our `DataFrame` – now it's 1 through 8, rather than the 0 through 7 of `distance_pct_change`."
   ]
  },
  {
   "cell_type": "code",
   "execution_count": 47,
   "metadata": {},
   "outputs": [
    {
     "data": {
      "text/plain": [
       "RangeIndex(start=0, stop=8, step=1)"
      ]
     },
     "execution_count": 47,
     "metadata": {},
     "output_type": "execute_result"
    }
   ],
   "source": [
    "distance_pct_change.index"
   ]
  },
  {
   "cell_type": "markdown",
   "metadata": {},
   "source": [
    "Luckily, there's more than one resolution. Let's tell the index of `distance_pct_change` to increase all of its values by `1`, using the `+=` operator."
   ]
  },
  {
   "cell_type": "code",
   "execution_count": 48,
   "metadata": {},
   "outputs": [],
   "source": [
    "distance_pct_change.index += 1"
   ]
  },
  {
   "cell_type": "code",
   "execution_count": 49,
   "metadata": {},
   "outputs": [
    {
     "data": {
      "text/plain": [
       "RangeIndex(start=1, stop=9, step=1)"
      ]
     },
     "execution_count": 49,
     "metadata": {},
     "output_type": "execute_result"
    }
   ],
   "source": [
    "distance_pct_change.index"
   ]
  },
  {
   "cell_type": "markdown",
   "metadata": {},
   "source": [
    "Now we're set."
   ]
  },
  {
   "cell_type": "code",
   "execution_count": 50,
   "metadata": {},
   "outputs": [
    {
     "data": {
      "text/html": [
       "<div>\n",
       "<style scoped>\n",
       "    .dataframe tbody tr th:only-of-type {\n",
       "        vertical-align: middle;\n",
       "    }\n",
       "\n",
       "    .dataframe tbody tr th {\n",
       "        vertical-align: top;\n",
       "    }\n",
       "\n",
       "    .dataframe thead th {\n",
       "        text-align: right;\n",
       "    }\n",
       "</style>\n",
       "<table border=\"1\" class=\"dataframe\">\n",
       "  <thead>\n",
       "    <tr style=\"text-align: right;\">\n",
       "      <th></th>\n",
       "      <th>name</th>\n",
       "      <th>solar_distance_km_6</th>\n",
       "      <th>distance_pct_change</th>\n",
       "    </tr>\n",
       "    <tr>\n",
       "      <th>number</th>\n",
       "      <th></th>\n",
       "      <th></th>\n",
       "      <th></th>\n",
       "    </tr>\n",
       "  </thead>\n",
       "  <tbody>\n",
       "    <tr>\n",
       "      <td>1</td>\n",
       "      <td>Mercury</td>\n",
       "      <td>57.9</td>\n",
       "      <td>NaN</td>\n",
       "    </tr>\n",
       "    <tr>\n",
       "      <td>2</td>\n",
       "      <td>Venus</td>\n",
       "      <td>108.2</td>\n",
       "      <td>86.873921</td>\n",
       "    </tr>\n",
       "    <tr>\n",
       "      <td>3</td>\n",
       "      <td>Earth</td>\n",
       "      <td>149.6</td>\n",
       "      <td>38.262477</td>\n",
       "    </tr>\n",
       "    <tr>\n",
       "      <td>4</td>\n",
       "      <td>Mars</td>\n",
       "      <td>227.9</td>\n",
       "      <td>52.339572</td>\n",
       "    </tr>\n",
       "    <tr>\n",
       "      <td>5</td>\n",
       "      <td>Jupiter</td>\n",
       "      <td>778.6</td>\n",
       "      <td>241.641071</td>\n",
       "    </tr>\n",
       "    <tr>\n",
       "      <td>6</td>\n",
       "      <td>Saturn</td>\n",
       "      <td>1433.5</td>\n",
       "      <td>84.112510</td>\n",
       "    </tr>\n",
       "    <tr>\n",
       "      <td>7</td>\n",
       "      <td>Uranus</td>\n",
       "      <td>2872.5</td>\n",
       "      <td>100.383676</td>\n",
       "    </tr>\n",
       "    <tr>\n",
       "      <td>8</td>\n",
       "      <td>Neptune</td>\n",
       "      <td>4495.1</td>\n",
       "      <td>56.487380</td>\n",
       "    </tr>\n",
       "  </tbody>\n",
       "</table>\n",
       "</div>"
      ],
      "text/plain": [
       "           name  solar_distance_km_6  distance_pct_change\n",
       "number                                                   \n",
       "1       Mercury                 57.9                  NaN\n",
       "2         Venus                108.2            86.873921\n",
       "3         Earth                149.6            38.262477\n",
       "4          Mars                227.9            52.339572\n",
       "5       Jupiter                778.6           241.641071\n",
       "6        Saturn               1433.5            84.112510\n",
       "7        Uranus               2872.5           100.383676\n",
       "8       Neptune               4495.1            56.487380"
      ]
     },
     "execution_count": 50,
     "metadata": {},
     "output_type": "execute_result"
    }
   ],
   "source": [
    "planet_distances.assign(distance_pct_change=distance_pct_change)"
   ]
  },
  {
   "cell_type": "markdown",
   "metadata": {},
   "source": [
    "In fact, `pandas` often offers more than one way to achieve the same, or a similar, result. We can also select rows and columns – in this case less succinctly – by specifying what labeled elements we *don't* want, using `drop`."
   ]
  },
  {
   "cell_type": "code",
   "execution_count": 51,
   "metadata": {},
   "outputs": [
    {
     "data": {
      "text/html": [
       "<div>\n",
       "<style scoped>\n",
       "    .dataframe tbody tr th:only-of-type {\n",
       "        vertical-align: middle;\n",
       "    }\n",
       "\n",
       "    .dataframe tbody tr th {\n",
       "        vertical-align: top;\n",
       "    }\n",
       "\n",
       "    .dataframe thead th {\n",
       "        text-align: right;\n",
       "    }\n",
       "</style>\n",
       "<table border=\"1\" class=\"dataframe\">\n",
       "  <thead>\n",
       "    <tr style=\"text-align: right;\">\n",
       "      <th></th>\n",
       "      <th>name</th>\n",
       "      <th>solar_distance_km_6</th>\n",
       "    </tr>\n",
       "    <tr>\n",
       "      <th>number</th>\n",
       "      <th></th>\n",
       "      <th></th>\n",
       "    </tr>\n",
       "  </thead>\n",
       "  <tbody>\n",
       "    <tr>\n",
       "      <td>1</td>\n",
       "      <td>Mercury</td>\n",
       "      <td>57.9</td>\n",
       "    </tr>\n",
       "    <tr>\n",
       "      <td>2</td>\n",
       "      <td>Venus</td>\n",
       "      <td>108.2</td>\n",
       "    </tr>\n",
       "    <tr>\n",
       "      <td>3</td>\n",
       "      <td>Earth</td>\n",
       "      <td>149.6</td>\n",
       "    </tr>\n",
       "    <tr>\n",
       "      <td>4</td>\n",
       "      <td>Mars</td>\n",
       "      <td>227.9</td>\n",
       "    </tr>\n",
       "    <tr>\n",
       "      <td>5</td>\n",
       "      <td>Jupiter</td>\n",
       "      <td>778.6</td>\n",
       "    </tr>\n",
       "    <tr>\n",
       "      <td>6</td>\n",
       "      <td>Saturn</td>\n",
       "      <td>1433.5</td>\n",
       "    </tr>\n",
       "    <tr>\n",
       "      <td>7</td>\n",
       "      <td>Uranus</td>\n",
       "      <td>2872.5</td>\n",
       "    </tr>\n",
       "    <tr>\n",
       "      <td>8</td>\n",
       "      <td>Neptune</td>\n",
       "      <td>4495.1</td>\n",
       "    </tr>\n",
       "  </tbody>\n",
       "</table>\n",
       "</div>"
      ],
      "text/plain": [
       "           name  solar_distance_km_6\n",
       "number                              \n",
       "1       Mercury                 57.9\n",
       "2         Venus                108.2\n",
       "3         Earth                149.6\n",
       "4          Mars                227.9\n",
       "5       Jupiter                778.6\n",
       "6        Saturn               1433.5\n",
       "7        Uranus               2872.5\n",
       "8       Neptune               4495.1"
      ]
     },
     "execution_count": 51,
     "metadata": {},
     "output_type": "execute_result"
    }
   ],
   "source": [
    "planets.drop(columns=['mass_kg_24', 'density_kg_m3', 'gravity_m_s2'])"
   ]
  },
  {
   "cell_type": "markdown",
   "metadata": {},
   "source": [
    "## Selection by condition\n",
    "\n",
    "So far we've selected individuals based on their position in the row index and based on their row index value or label. But particularly in larger data sets, this may not be practical.\n",
    "\n",
    "To begin, we might sort our data by a column or a set of columns. Say we were having trouble finding Earth – we could produce a new `DataFrame`, sorted by the `name` feature."
   ]
  },
  {
   "cell_type": "code",
   "execution_count": 52,
   "metadata": {},
   "outputs": [
    {
     "data": {
      "text/html": [
       "<div>\n",
       "<style scoped>\n",
       "    .dataframe tbody tr th:only-of-type {\n",
       "        vertical-align: middle;\n",
       "    }\n",
       "\n",
       "    .dataframe tbody tr th {\n",
       "        vertical-align: top;\n",
       "    }\n",
       "\n",
       "    .dataframe thead th {\n",
       "        text-align: right;\n",
       "    }\n",
       "</style>\n",
       "<table border=\"1\" class=\"dataframe\">\n",
       "  <thead>\n",
       "    <tr style=\"text-align: right;\">\n",
       "      <th></th>\n",
       "      <th>name</th>\n",
       "      <th>solar_distance_km_6</th>\n",
       "      <th>mass_kg_24</th>\n",
       "      <th>density_kg_m3</th>\n",
       "      <th>gravity_m_s2</th>\n",
       "    </tr>\n",
       "    <tr>\n",
       "      <th>number</th>\n",
       "      <th></th>\n",
       "      <th></th>\n",
       "      <th></th>\n",
       "      <th></th>\n",
       "      <th></th>\n",
       "    </tr>\n",
       "  </thead>\n",
       "  <tbody>\n",
       "    <tr>\n",
       "      <td>3</td>\n",
       "      <td>Earth</td>\n",
       "      <td>149.6</td>\n",
       "      <td>5.970</td>\n",
       "      <td>5514.0</td>\n",
       "      <td>9.8</td>\n",
       "    </tr>\n",
       "    <tr>\n",
       "      <td>5</td>\n",
       "      <td>Jupiter</td>\n",
       "      <td>778.6</td>\n",
       "      <td>1898.000</td>\n",
       "      <td>1326.0</td>\n",
       "      <td>23.1</td>\n",
       "    </tr>\n",
       "    <tr>\n",
       "      <td>4</td>\n",
       "      <td>Mars</td>\n",
       "      <td>227.9</td>\n",
       "      <td>0.642</td>\n",
       "      <td>3933.0</td>\n",
       "      <td>3.7</td>\n",
       "    </tr>\n",
       "    <tr>\n",
       "      <td>1</td>\n",
       "      <td>Mercury</td>\n",
       "      <td>57.9</td>\n",
       "      <td>0.330</td>\n",
       "      <td>5427.0</td>\n",
       "      <td>3.7</td>\n",
       "    </tr>\n",
       "    <tr>\n",
       "      <td>8</td>\n",
       "      <td>Neptune</td>\n",
       "      <td>4495.1</td>\n",
       "      <td>102.000</td>\n",
       "      <td>1638.0</td>\n",
       "      <td>11.0</td>\n",
       "    </tr>\n",
       "    <tr>\n",
       "      <td>6</td>\n",
       "      <td>Saturn</td>\n",
       "      <td>1433.5</td>\n",
       "      <td>568.000</td>\n",
       "      <td>687.0</td>\n",
       "      <td>9.0</td>\n",
       "    </tr>\n",
       "    <tr>\n",
       "      <td>7</td>\n",
       "      <td>Uranus</td>\n",
       "      <td>2872.5</td>\n",
       "      <td>86.800</td>\n",
       "      <td>1271.0</td>\n",
       "      <td>8.7</td>\n",
       "    </tr>\n",
       "    <tr>\n",
       "      <td>2</td>\n",
       "      <td>Venus</td>\n",
       "      <td>108.2</td>\n",
       "      <td>4.870</td>\n",
       "      <td>5243.0</td>\n",
       "      <td>8.9</td>\n",
       "    </tr>\n",
       "  </tbody>\n",
       "</table>\n",
       "</div>"
      ],
      "text/plain": [
       "           name  solar_distance_km_6  mass_kg_24  density_kg_m3  gravity_m_s2\n",
       "number                                                                       \n",
       "3         Earth                149.6       5.970         5514.0           9.8\n",
       "5       Jupiter                778.6    1898.000         1326.0          23.1\n",
       "4          Mars                227.9       0.642         3933.0           3.7\n",
       "1       Mercury                 57.9       0.330         5427.0           3.7\n",
       "8       Neptune               4495.1     102.000         1638.0          11.0\n",
       "6        Saturn               1433.5     568.000          687.0           9.0\n",
       "7        Uranus               2872.5      86.800         1271.0           8.7\n",
       "2         Venus                108.2       4.870         5243.0           8.9"
      ]
     },
     "execution_count": 52,
     "metadata": {},
     "output_type": "execute_result"
    }
   ],
   "source": [
    "planets.sort_values('name')"
   ]
  },
  {
   "cell_type": "markdown",
   "metadata": {},
   "source": [
    "By default, this sorts individuals in \"ascending\" order – from alphabetical \"first\" to \"last\" and numerical smallest to greatest.\n",
    "\n",
    "If instead we wanted to see the most massive planets, we would sort by the `mass_kg_24` feature, but in \"descending\" order."
   ]
  },
  {
   "cell_type": "code",
   "execution_count": 53,
   "metadata": {},
   "outputs": [
    {
     "data": {
      "text/html": [
       "<div>\n",
       "<style scoped>\n",
       "    .dataframe tbody tr th:only-of-type {\n",
       "        vertical-align: middle;\n",
       "    }\n",
       "\n",
       "    .dataframe tbody tr th {\n",
       "        vertical-align: top;\n",
       "    }\n",
       "\n",
       "    .dataframe thead th {\n",
       "        text-align: right;\n",
       "    }\n",
       "</style>\n",
       "<table border=\"1\" class=\"dataframe\">\n",
       "  <thead>\n",
       "    <tr style=\"text-align: right;\">\n",
       "      <th></th>\n",
       "      <th>name</th>\n",
       "      <th>solar_distance_km_6</th>\n",
       "      <th>mass_kg_24</th>\n",
       "      <th>density_kg_m3</th>\n",
       "      <th>gravity_m_s2</th>\n",
       "    </tr>\n",
       "    <tr>\n",
       "      <th>number</th>\n",
       "      <th></th>\n",
       "      <th></th>\n",
       "      <th></th>\n",
       "      <th></th>\n",
       "      <th></th>\n",
       "    </tr>\n",
       "  </thead>\n",
       "  <tbody>\n",
       "    <tr>\n",
       "      <td>5</td>\n",
       "      <td>Jupiter</td>\n",
       "      <td>778.6</td>\n",
       "      <td>1898.000</td>\n",
       "      <td>1326.0</td>\n",
       "      <td>23.1</td>\n",
       "    </tr>\n",
       "    <tr>\n",
       "      <td>6</td>\n",
       "      <td>Saturn</td>\n",
       "      <td>1433.5</td>\n",
       "      <td>568.000</td>\n",
       "      <td>687.0</td>\n",
       "      <td>9.0</td>\n",
       "    </tr>\n",
       "    <tr>\n",
       "      <td>8</td>\n",
       "      <td>Neptune</td>\n",
       "      <td>4495.1</td>\n",
       "      <td>102.000</td>\n",
       "      <td>1638.0</td>\n",
       "      <td>11.0</td>\n",
       "    </tr>\n",
       "    <tr>\n",
       "      <td>7</td>\n",
       "      <td>Uranus</td>\n",
       "      <td>2872.5</td>\n",
       "      <td>86.800</td>\n",
       "      <td>1271.0</td>\n",
       "      <td>8.7</td>\n",
       "    </tr>\n",
       "    <tr>\n",
       "      <td>3</td>\n",
       "      <td>Earth</td>\n",
       "      <td>149.6</td>\n",
       "      <td>5.970</td>\n",
       "      <td>5514.0</td>\n",
       "      <td>9.8</td>\n",
       "    </tr>\n",
       "    <tr>\n",
       "      <td>2</td>\n",
       "      <td>Venus</td>\n",
       "      <td>108.2</td>\n",
       "      <td>4.870</td>\n",
       "      <td>5243.0</td>\n",
       "      <td>8.9</td>\n",
       "    </tr>\n",
       "    <tr>\n",
       "      <td>4</td>\n",
       "      <td>Mars</td>\n",
       "      <td>227.9</td>\n",
       "      <td>0.642</td>\n",
       "      <td>3933.0</td>\n",
       "      <td>3.7</td>\n",
       "    </tr>\n",
       "    <tr>\n",
       "      <td>1</td>\n",
       "      <td>Mercury</td>\n",
       "      <td>57.9</td>\n",
       "      <td>0.330</td>\n",
       "      <td>5427.0</td>\n",
       "      <td>3.7</td>\n",
       "    </tr>\n",
       "  </tbody>\n",
       "</table>\n",
       "</div>"
      ],
      "text/plain": [
       "           name  solar_distance_km_6  mass_kg_24  density_kg_m3  gravity_m_s2\n",
       "number                                                                       \n",
       "5       Jupiter                778.6    1898.000         1326.0          23.1\n",
       "6        Saturn               1433.5     568.000          687.0           9.0\n",
       "8       Neptune               4495.1     102.000         1638.0          11.0\n",
       "7        Uranus               2872.5      86.800         1271.0           8.7\n",
       "3         Earth                149.6       5.970         5514.0           9.8\n",
       "2         Venus                108.2       4.870         5243.0           8.9\n",
       "4          Mars                227.9       0.642         3933.0           3.7\n",
       "1       Mercury                 57.9       0.330         5427.0           3.7"
      ]
     },
     "execution_count": 53,
     "metadata": {},
     "output_type": "execute_result"
    }
   ],
   "source": [
    "planets_massive = planets.sort_values('mass_kg_24', ascending=False)\n",
    "\n",
    "planets_massive"
   ]
  },
  {
   "cell_type": "markdown",
   "metadata": {},
   "source": [
    "In both cases, we are interested in the first-listed rows. For example, we can extract the most massive planet, Jupiter, from the sorted `DataFrame`."
   ]
  },
  {
   "cell_type": "code",
   "execution_count": 54,
   "metadata": {},
   "outputs": [
    {
     "data": {
      "text/plain": [
       "name                   Jupiter\n",
       "solar_distance_km_6      778.6\n",
       "mass_kg_24                1898\n",
       "density_kg_m3             1326\n",
       "gravity_m_s2              23.1\n",
       "Name: 5, dtype: object"
      ]
     },
     "execution_count": 54,
     "metadata": {},
     "output_type": "execute_result"
    }
   ],
   "source": [
    "planets_massive.iloc[0]"
   ]
  },
  {
   "cell_type": "markdown",
   "metadata": {},
   "source": [
    "Sorting in this way can get you pretty far. But more powerfully, you can specify a *condition* or a set of conditions which individuals must pass in order to be selected.\n",
    "\n",
    "Again, the `DataFrame` property `loc` does the job for us. It supports the output of a `DataFrame` with the same features as the original but only the individuals whose features satisfy the condition.\n",
    "\n",
    "Rather than using an offset, label or slice, this is specified to `loc` using a *boolean* sequence, which itself indicates the rows satisfying our condition, such as:\n",
    "\n",
    "    [True, False, True]\n",
    "\n",
    "But don't worry! We needn't produce this `list` ourselves. We can generate it from a simple conditional expression in Python, applied to the `Series` of data underlying the feature itself."
   ]
  },
  {
   "cell_type": "code",
   "execution_count": 55,
   "metadata": {},
   "outputs": [
    {
     "data": {
      "text/plain": [
       "number\n",
       "1       0.330\n",
       "2       4.870\n",
       "3       5.970\n",
       "4       0.642\n",
       "5    1898.000\n",
       "6     568.000\n",
       "7      86.800\n",
       "8     102.000\n",
       "Name: mass_kg_24, dtype: float64"
      ]
     },
     "execution_count": 55,
     "metadata": {},
     "output_type": "execute_result"
    }
   ],
   "source": [
    "planets.mass_kg_24"
   ]
  },
  {
   "cell_type": "markdown",
   "metadata": {},
   "source": [
    "Our solar system's inner planets never get any more massive than Earth – less than 6 x 10<sup>24</sup> kilograms in mass. We can exclude such lightweights with the *mask* produced by the following comparison expression."
   ]
  },
  {
   "cell_type": "code",
   "execution_count": 56,
   "metadata": {},
   "outputs": [
    {
     "data": {
      "text/plain": [
       "number\n",
       "1    False\n",
       "2    False\n",
       "3    False\n",
       "4    False\n",
       "5     True\n",
       "6     True\n",
       "7     True\n",
       "8     True\n",
       "Name: mass_kg_24, dtype: bool"
      ]
     },
     "execution_count": 56,
     "metadata": {},
     "output_type": "execute_result"
    }
   ],
   "source": [
    "planets.mass_kg_24 > 6"
   ]
  },
  {
   "cell_type": "markdown",
   "metadata": {},
   "source": [
    "As you can see, we've produced a new `Series`, populated by Boolean values which reflect that the \"statement\" of our comparison – that the planets' masses are \"greater than 6\" thousand yottagrams – is `False` for the first four planets, but `True` for the remainder.\n",
    "\n",
    "We can specify to `loc` this mask – if we like, of course, the expression itself – and produce our new `DataFrame` of individuals satisfying our condition."
   ]
  },
  {
   "cell_type": "code",
   "execution_count": 57,
   "metadata": {},
   "outputs": [
    {
     "data": {
      "text/html": [
       "<div>\n",
       "<style scoped>\n",
       "    .dataframe tbody tr th:only-of-type {\n",
       "        vertical-align: middle;\n",
       "    }\n",
       "\n",
       "    .dataframe tbody tr th {\n",
       "        vertical-align: top;\n",
       "    }\n",
       "\n",
       "    .dataframe thead th {\n",
       "        text-align: right;\n",
       "    }\n",
       "</style>\n",
       "<table border=\"1\" class=\"dataframe\">\n",
       "  <thead>\n",
       "    <tr style=\"text-align: right;\">\n",
       "      <th></th>\n",
       "      <th>name</th>\n",
       "      <th>solar_distance_km_6</th>\n",
       "      <th>mass_kg_24</th>\n",
       "      <th>density_kg_m3</th>\n",
       "      <th>gravity_m_s2</th>\n",
       "    </tr>\n",
       "    <tr>\n",
       "      <th>number</th>\n",
       "      <th></th>\n",
       "      <th></th>\n",
       "      <th></th>\n",
       "      <th></th>\n",
       "      <th></th>\n",
       "    </tr>\n",
       "  </thead>\n",
       "  <tbody>\n",
       "    <tr>\n",
       "      <td>5</td>\n",
       "      <td>Jupiter</td>\n",
       "      <td>778.6</td>\n",
       "      <td>1898.0</td>\n",
       "      <td>1326.0</td>\n",
       "      <td>23.1</td>\n",
       "    </tr>\n",
       "    <tr>\n",
       "      <td>6</td>\n",
       "      <td>Saturn</td>\n",
       "      <td>1433.5</td>\n",
       "      <td>568.0</td>\n",
       "      <td>687.0</td>\n",
       "      <td>9.0</td>\n",
       "    </tr>\n",
       "    <tr>\n",
       "      <td>7</td>\n",
       "      <td>Uranus</td>\n",
       "      <td>2872.5</td>\n",
       "      <td>86.8</td>\n",
       "      <td>1271.0</td>\n",
       "      <td>8.7</td>\n",
       "    </tr>\n",
       "    <tr>\n",
       "      <td>8</td>\n",
       "      <td>Neptune</td>\n",
       "      <td>4495.1</td>\n",
       "      <td>102.0</td>\n",
       "      <td>1638.0</td>\n",
       "      <td>11.0</td>\n",
       "    </tr>\n",
       "  </tbody>\n",
       "</table>\n",
       "</div>"
      ],
      "text/plain": [
       "           name  solar_distance_km_6  mass_kg_24  density_kg_m3  gravity_m_s2\n",
       "number                                                                       \n",
       "5       Jupiter                778.6      1898.0         1326.0          23.1\n",
       "6        Saturn               1433.5       568.0          687.0           9.0\n",
       "7        Uranus               2872.5        86.8         1271.0           8.7\n",
       "8       Neptune               4495.1       102.0         1638.0          11.0"
      ]
     },
     "execution_count": 57,
     "metadata": {},
     "output_type": "execute_result"
    }
   ],
   "source": [
    "planets.loc[planets.mass_kg_24 > 6]"
   ]
  },
  {
   "cell_type": "markdown",
   "metadata": {},
   "source": [
    "Or, even simpler, we can construct the same sort of look-up to find Earth."
   ]
  },
  {
   "cell_type": "code",
   "execution_count": 58,
   "metadata": {},
   "outputs": [
    {
     "data": {
      "text/html": [
       "<div>\n",
       "<style scoped>\n",
       "    .dataframe tbody tr th:only-of-type {\n",
       "        vertical-align: middle;\n",
       "    }\n",
       "\n",
       "    .dataframe tbody tr th {\n",
       "        vertical-align: top;\n",
       "    }\n",
       "\n",
       "    .dataframe thead th {\n",
       "        text-align: right;\n",
       "    }\n",
       "</style>\n",
       "<table border=\"1\" class=\"dataframe\">\n",
       "  <thead>\n",
       "    <tr style=\"text-align: right;\">\n",
       "      <th></th>\n",
       "      <th>name</th>\n",
       "      <th>solar_distance_km_6</th>\n",
       "      <th>mass_kg_24</th>\n",
       "      <th>density_kg_m3</th>\n",
       "      <th>gravity_m_s2</th>\n",
       "    </tr>\n",
       "    <tr>\n",
       "      <th>number</th>\n",
       "      <th></th>\n",
       "      <th></th>\n",
       "      <th></th>\n",
       "      <th></th>\n",
       "      <th></th>\n",
       "    </tr>\n",
       "  </thead>\n",
       "  <tbody>\n",
       "    <tr>\n",
       "      <td>3</td>\n",
       "      <td>Earth</td>\n",
       "      <td>149.6</td>\n",
       "      <td>5.97</td>\n",
       "      <td>5514.0</td>\n",
       "      <td>9.8</td>\n",
       "    </tr>\n",
       "  </tbody>\n",
       "</table>\n",
       "</div>"
      ],
      "text/plain": [
       "         name  solar_distance_km_6  mass_kg_24  density_kg_m3  gravity_m_s2\n",
       "number                                                                     \n",
       "3       Earth                149.6        5.97         5514.0           9.8"
      ]
     },
     "execution_count": 58,
     "metadata": {},
     "output_type": "execute_result"
    }
   ],
   "source": [
    "planets.loc[planets.name == 'Earth']"
   ]
  },
  {
   "cell_type": "markdown",
   "metadata": {},
   "source": [
    "Above we built our conditions from a known value, such as `6`. We can build a value look-up into our comparison as well.\n",
    "\n",
    "Another look-up property, `at`, provides a shortcut to scalar values."
   ]
  },
  {
   "cell_type": "code",
   "execution_count": 59,
   "metadata": {},
   "outputs": [
    {
     "data": {
      "text/plain": [
       "5.97"
      ]
     },
     "execution_count": 59,
     "metadata": {},
     "output_type": "execute_result"
    }
   ],
   "source": [
    "planets.at[3, 'mass_kg_24']"
   ]
  },
  {
   "cell_type": "code",
   "execution_count": 60,
   "metadata": {},
   "outputs": [
    {
     "data": {
      "text/html": [
       "<div>\n",
       "<style scoped>\n",
       "    .dataframe tbody tr th:only-of-type {\n",
       "        vertical-align: middle;\n",
       "    }\n",
       "\n",
       "    .dataframe tbody tr th {\n",
       "        vertical-align: top;\n",
       "    }\n",
       "\n",
       "    .dataframe thead th {\n",
       "        text-align: right;\n",
       "    }\n",
       "</style>\n",
       "<table border=\"1\" class=\"dataframe\">\n",
       "  <thead>\n",
       "    <tr style=\"text-align: right;\">\n",
       "      <th></th>\n",
       "      <th>name</th>\n",
       "      <th>solar_distance_km_6</th>\n",
       "      <th>mass_kg_24</th>\n",
       "      <th>density_kg_m3</th>\n",
       "      <th>gravity_m_s2</th>\n",
       "    </tr>\n",
       "    <tr>\n",
       "      <th>number</th>\n",
       "      <th></th>\n",
       "      <th></th>\n",
       "      <th></th>\n",
       "      <th></th>\n",
       "      <th></th>\n",
       "    </tr>\n",
       "  </thead>\n",
       "  <tbody>\n",
       "    <tr>\n",
       "      <td>5</td>\n",
       "      <td>Jupiter</td>\n",
       "      <td>778.6</td>\n",
       "      <td>1898.0</td>\n",
       "      <td>1326.0</td>\n",
       "      <td>23.1</td>\n",
       "    </tr>\n",
       "    <tr>\n",
       "      <td>6</td>\n",
       "      <td>Saturn</td>\n",
       "      <td>1433.5</td>\n",
       "      <td>568.0</td>\n",
       "      <td>687.0</td>\n",
       "      <td>9.0</td>\n",
       "    </tr>\n",
       "    <tr>\n",
       "      <td>7</td>\n",
       "      <td>Uranus</td>\n",
       "      <td>2872.5</td>\n",
       "      <td>86.8</td>\n",
       "      <td>1271.0</td>\n",
       "      <td>8.7</td>\n",
       "    </tr>\n",
       "    <tr>\n",
       "      <td>8</td>\n",
       "      <td>Neptune</td>\n",
       "      <td>4495.1</td>\n",
       "      <td>102.0</td>\n",
       "      <td>1638.0</td>\n",
       "      <td>11.0</td>\n",
       "    </tr>\n",
       "  </tbody>\n",
       "</table>\n",
       "</div>"
      ],
      "text/plain": [
       "           name  solar_distance_km_6  mass_kg_24  density_kg_m3  gravity_m_s2\n",
       "number                                                                       \n",
       "5       Jupiter                778.6      1898.0         1326.0          23.1\n",
       "6        Saturn               1433.5       568.0          687.0           9.0\n",
       "7        Uranus               2872.5        86.8         1271.0           8.7\n",
       "8       Neptune               4495.1       102.0         1638.0          11.0"
      ]
     },
     "execution_count": 60,
     "metadata": {},
     "output_type": "execute_result"
    }
   ],
   "source": [
    "planets.loc[\n",
    "    planets.mass_kg_24 > planets.at[3, 'mass_kg_24']\n",
    "]"
   ]
  },
  {
   "cell_type": "markdown",
   "metadata": {},
   "source": [
    "We can also select individuals that satisfy multiple conditions.\n",
    "\n",
    "Let's compare the planets of our solar system to the Earth. We can begin by selecting only those planets whose gravity is within approximately 50% of Earth's – less than $14.8\\frac{m}{s^2}$ and more than $4.8\\frac{m}{s^2}$."
   ]
  },
  {
   "cell_type": "code",
   "execution_count": 61,
   "metadata": {},
   "outputs": [
    {
     "data": {
      "text/plain": [
       "number\n",
       "1     True\n",
       "2     True\n",
       "3     True\n",
       "4     True\n",
       "5    False\n",
       "6     True\n",
       "7     True\n",
       "8     True\n",
       "Name: gravity_m_s2, dtype: bool"
      ]
     },
     "execution_count": 61,
     "metadata": {},
     "output_type": "execute_result"
    }
   ],
   "source": [
    "not_too_much_gravity = planets.gravity_m_s2 < planets.at[3, 'gravity_m_s2'] + 5\n",
    "\n",
    "not_too_much_gravity"
   ]
  },
  {
   "cell_type": "code",
   "execution_count": 62,
   "metadata": {},
   "outputs": [
    {
     "data": {
      "text/plain": [
       "number\n",
       "1    False\n",
       "2     True\n",
       "3     True\n",
       "4    False\n",
       "5     True\n",
       "6     True\n",
       "7     True\n",
       "8     True\n",
       "Name: gravity_m_s2, dtype: bool"
      ]
     },
     "execution_count": 62,
     "metadata": {},
     "output_type": "execute_result"
    }
   ],
   "source": [
    "not_too_little_gravity = planets.gravity_m_s2 > planets.at[3, 'gravity_m_s2'] - 5\n",
    "\n",
    "not_too_little_gravity"
   ]
  },
  {
   "cell_type": "markdown",
   "metadata": {},
   "source": [
    "We might simply invoke `loc` twice, once for each condition."
   ]
  },
  {
   "cell_type": "code",
   "execution_count": 63,
   "metadata": {},
   "outputs": [
    {
     "data": {
      "text/html": [
       "<div>\n",
       "<style scoped>\n",
       "    .dataframe tbody tr th:only-of-type {\n",
       "        vertical-align: middle;\n",
       "    }\n",
       "\n",
       "    .dataframe tbody tr th {\n",
       "        vertical-align: top;\n",
       "    }\n",
       "\n",
       "    .dataframe thead th {\n",
       "        text-align: right;\n",
       "    }\n",
       "</style>\n",
       "<table border=\"1\" class=\"dataframe\">\n",
       "  <thead>\n",
       "    <tr style=\"text-align: right;\">\n",
       "      <th></th>\n",
       "      <th>name</th>\n",
       "      <th>solar_distance_km_6</th>\n",
       "      <th>mass_kg_24</th>\n",
       "      <th>density_kg_m3</th>\n",
       "      <th>gravity_m_s2</th>\n",
       "    </tr>\n",
       "    <tr>\n",
       "      <th>number</th>\n",
       "      <th></th>\n",
       "      <th></th>\n",
       "      <th></th>\n",
       "      <th></th>\n",
       "      <th></th>\n",
       "    </tr>\n",
       "  </thead>\n",
       "  <tbody>\n",
       "    <tr>\n",
       "      <td>2</td>\n",
       "      <td>Venus</td>\n",
       "      <td>108.2</td>\n",
       "      <td>4.87</td>\n",
       "      <td>5243.0</td>\n",
       "      <td>8.9</td>\n",
       "    </tr>\n",
       "    <tr>\n",
       "      <td>3</td>\n",
       "      <td>Earth</td>\n",
       "      <td>149.6</td>\n",
       "      <td>5.97</td>\n",
       "      <td>5514.0</td>\n",
       "      <td>9.8</td>\n",
       "    </tr>\n",
       "    <tr>\n",
       "      <td>6</td>\n",
       "      <td>Saturn</td>\n",
       "      <td>1433.5</td>\n",
       "      <td>568.00</td>\n",
       "      <td>687.0</td>\n",
       "      <td>9.0</td>\n",
       "    </tr>\n",
       "    <tr>\n",
       "      <td>7</td>\n",
       "      <td>Uranus</td>\n",
       "      <td>2872.5</td>\n",
       "      <td>86.80</td>\n",
       "      <td>1271.0</td>\n",
       "      <td>8.7</td>\n",
       "    </tr>\n",
       "    <tr>\n",
       "      <td>8</td>\n",
       "      <td>Neptune</td>\n",
       "      <td>4495.1</td>\n",
       "      <td>102.00</td>\n",
       "      <td>1638.0</td>\n",
       "      <td>11.0</td>\n",
       "    </tr>\n",
       "  </tbody>\n",
       "</table>\n",
       "</div>"
      ],
      "text/plain": [
       "           name  solar_distance_km_6  mass_kg_24  density_kg_m3  gravity_m_s2\n",
       "number                                                                       \n",
       "2         Venus                108.2        4.87         5243.0           8.9\n",
       "3         Earth                149.6        5.97         5514.0           9.8\n",
       "6        Saturn               1433.5      568.00          687.0           9.0\n",
       "7        Uranus               2872.5       86.80         1271.0           8.7\n",
       "8       Neptune               4495.1      102.00         1638.0          11.0"
      ]
     },
     "execution_count": 63,
     "metadata": {},
     "output_type": "execute_result"
    }
   ],
   "source": [
    "planets.loc[not_too_much_gravity].loc[not_too_little_gravity]"
   ]
  },
  {
   "cell_type": "markdown",
   "metadata": {},
   "source": [
    "Or, more powerfully, we can combine our conditions into a single conditional mask. In this case, we want *both* conditions to be satisfied, and so we'll combine them using the *bitwise AND* operator: `&`."
   ]
  },
  {
   "cell_type": "code",
   "execution_count": 64,
   "metadata": {},
   "outputs": [
    {
     "data": {
      "text/plain": [
       "number\n",
       "1    False\n",
       "2     True\n",
       "3     True\n",
       "4    False\n",
       "5    False\n",
       "6     True\n",
       "7     True\n",
       "8     True\n",
       "Name: gravity_m_s2, dtype: bool"
      ]
     },
     "execution_count": 64,
     "metadata": {},
     "output_type": "execute_result"
    }
   ],
   "source": [
    "not_too_much_gravity & not_too_little_gravity"
   ]
  },
  {
   "cell_type": "code",
   "execution_count": 65,
   "metadata": {},
   "outputs": [
    {
     "data": {
      "text/html": [
       "<div>\n",
       "<style scoped>\n",
       "    .dataframe tbody tr th:only-of-type {\n",
       "        vertical-align: middle;\n",
       "    }\n",
       "\n",
       "    .dataframe tbody tr th {\n",
       "        vertical-align: top;\n",
       "    }\n",
       "\n",
       "    .dataframe thead th {\n",
       "        text-align: right;\n",
       "    }\n",
       "</style>\n",
       "<table border=\"1\" class=\"dataframe\">\n",
       "  <thead>\n",
       "    <tr style=\"text-align: right;\">\n",
       "      <th></th>\n",
       "      <th>name</th>\n",
       "      <th>solar_distance_km_6</th>\n",
       "      <th>mass_kg_24</th>\n",
       "      <th>density_kg_m3</th>\n",
       "      <th>gravity_m_s2</th>\n",
       "    </tr>\n",
       "    <tr>\n",
       "      <th>number</th>\n",
       "      <th></th>\n",
       "      <th></th>\n",
       "      <th></th>\n",
       "      <th></th>\n",
       "      <th></th>\n",
       "    </tr>\n",
       "  </thead>\n",
       "  <tbody>\n",
       "    <tr>\n",
       "      <td>2</td>\n",
       "      <td>Venus</td>\n",
       "      <td>108.2</td>\n",
       "      <td>4.87</td>\n",
       "      <td>5243.0</td>\n",
       "      <td>8.9</td>\n",
       "    </tr>\n",
       "    <tr>\n",
       "      <td>3</td>\n",
       "      <td>Earth</td>\n",
       "      <td>149.6</td>\n",
       "      <td>5.97</td>\n",
       "      <td>5514.0</td>\n",
       "      <td>9.8</td>\n",
       "    </tr>\n",
       "    <tr>\n",
       "      <td>6</td>\n",
       "      <td>Saturn</td>\n",
       "      <td>1433.5</td>\n",
       "      <td>568.00</td>\n",
       "      <td>687.0</td>\n",
       "      <td>9.0</td>\n",
       "    </tr>\n",
       "    <tr>\n",
       "      <td>7</td>\n",
       "      <td>Uranus</td>\n",
       "      <td>2872.5</td>\n",
       "      <td>86.80</td>\n",
       "      <td>1271.0</td>\n",
       "      <td>8.7</td>\n",
       "    </tr>\n",
       "    <tr>\n",
       "      <td>8</td>\n",
       "      <td>Neptune</td>\n",
       "      <td>4495.1</td>\n",
       "      <td>102.00</td>\n",
       "      <td>1638.0</td>\n",
       "      <td>11.0</td>\n",
       "    </tr>\n",
       "  </tbody>\n",
       "</table>\n",
       "</div>"
      ],
      "text/plain": [
       "           name  solar_distance_km_6  mass_kg_24  density_kg_m3  gravity_m_s2\n",
       "number                                                                       \n",
       "2         Venus                108.2        4.87         5243.0           8.9\n",
       "3         Earth                149.6        5.97         5514.0           9.8\n",
       "6        Saturn               1433.5      568.00          687.0           9.0\n",
       "7        Uranus               2872.5       86.80         1271.0           8.7\n",
       "8       Neptune               4495.1      102.00         1638.0          11.0"
      ]
     },
     "execution_count": 65,
     "metadata": {},
     "output_type": "execute_result"
    }
   ],
   "source": [
    "planets.loc[not_too_much_gravity & not_too_little_gravity]"
   ]
  },
  {
   "cell_type": "markdown",
   "metadata": {},
   "source": [
    "We're left with the majority of the planets. Only Mercury, Mars and Jupiter have been excluded – Mercury and Mars for having too little gravity, and Jupiter for having too much.\n",
    "\n",
    "In fact, we know that Saturn is a gas giant, consisting almost entirely of hydrogen gas – nothing at all like Earth! This fact is indirectly evident from its density: less than 13% of the density of the Earth."
   ]
  },
  {
   "cell_type": "code",
   "execution_count": 66,
   "metadata": {},
   "outputs": [
    {
     "data": {
      "text/plain": [
       "number\n",
       "1    0.984222\n",
       "2    0.950852\n",
       "3    1.000000\n",
       "4    0.713275\n",
       "5    0.240479\n",
       "6    0.124592\n",
       "7    0.230504\n",
       "8    0.297062\n",
       "Name: density_kg_m3, dtype: float64"
      ]
     },
     "execution_count": 66,
     "metadata": {},
     "output_type": "execute_result"
    }
   ],
   "source": [
    "planets.density_kg_m3 / planets.at[3, 'density_kg_m3']"
   ]
  },
  {
   "cell_type": "markdown",
   "metadata": {},
   "source": [
    "We can exclude the gas giants as well by combining our gravity-based conditions with a density-based condition: that the planets' densities are at least 50% of Earth's."
   ]
  },
  {
   "cell_type": "code",
   "execution_count": 67,
   "metadata": {},
   "outputs": [
    {
     "data": {
      "text/plain": [
       "number\n",
       "1     True\n",
       "2     True\n",
       "3     True\n",
       "4     True\n",
       "5    False\n",
       "6    False\n",
       "7    False\n",
       "8    False\n",
       "Name: density_kg_m3, dtype: bool"
      ]
     },
     "execution_count": 67,
     "metadata": {},
     "output_type": "execute_result"
    }
   ],
   "source": [
    "dense_enough = planets.density_kg_m3 >= planets.at[3, 'density_kg_m3'] * 0.5\n",
    "\n",
    "dense_enough"
   ]
  },
  {
   "cell_type": "code",
   "execution_count": 68,
   "metadata": {},
   "outputs": [
    {
     "data": {
      "text/html": [
       "<div>\n",
       "<style scoped>\n",
       "    .dataframe tbody tr th:only-of-type {\n",
       "        vertical-align: middle;\n",
       "    }\n",
       "\n",
       "    .dataframe tbody tr th {\n",
       "        vertical-align: top;\n",
       "    }\n",
       "\n",
       "    .dataframe thead th {\n",
       "        text-align: right;\n",
       "    }\n",
       "</style>\n",
       "<table border=\"1\" class=\"dataframe\">\n",
       "  <thead>\n",
       "    <tr style=\"text-align: right;\">\n",
       "      <th></th>\n",
       "      <th>name</th>\n",
       "      <th>solar_distance_km_6</th>\n",
       "      <th>mass_kg_24</th>\n",
       "      <th>density_kg_m3</th>\n",
       "      <th>gravity_m_s2</th>\n",
       "    </tr>\n",
       "    <tr>\n",
       "      <th>number</th>\n",
       "      <th></th>\n",
       "      <th></th>\n",
       "      <th></th>\n",
       "      <th></th>\n",
       "      <th></th>\n",
       "    </tr>\n",
       "  </thead>\n",
       "  <tbody>\n",
       "    <tr>\n",
       "      <td>2</td>\n",
       "      <td>Venus</td>\n",
       "      <td>108.2</td>\n",
       "      <td>4.87</td>\n",
       "      <td>5243.0</td>\n",
       "      <td>8.9</td>\n",
       "    </tr>\n",
       "    <tr>\n",
       "      <td>3</td>\n",
       "      <td>Earth</td>\n",
       "      <td>149.6</td>\n",
       "      <td>5.97</td>\n",
       "      <td>5514.0</td>\n",
       "      <td>9.8</td>\n",
       "    </tr>\n",
       "  </tbody>\n",
       "</table>\n",
       "</div>"
      ],
      "text/plain": [
       "         name  solar_distance_km_6  mass_kg_24  density_kg_m3  gravity_m_s2\n",
       "number                                                                     \n",
       "2       Venus                108.2        4.87         5243.0           8.9\n",
       "3       Earth                149.6        5.97         5514.0           9.8"
      ]
     },
     "execution_count": 68,
     "metadata": {},
     "output_type": "execute_result"
    }
   ],
   "source": [
    "planets.loc[not_too_much_gravity & not_too_little_gravity & dense_enough]"
   ]
  },
  {
   "cell_type": "markdown",
   "metadata": {},
   "source": [
    "Now we're left with only Venus and Earth.\n",
    "\n",
    "And, we're given an excellent example of the danger of drawing conclusions from too-small a data set. The two planets appear similar, judging by the above. Venus *is* considerably closer to the sun – 41.4 million kilometers closer than the Earth; but, as we saw, this is the *smallest* distance between any of the planets, and it's difficult to gauge the significance of this feature with regard to its similarity to Earth … at least, this feature on its own.\n",
    "\n",
    "That said, if our data included a feature like `average_temperature_celsius` – for which Venus would be 462&deg; – then we'd know why Mars is considered the most likely habitable planet in our solar system, outside of the Earth … never mind *its* average temperature of -63&deg; Celsius, and its much lower gravity!"
   ]
  },
  {
   "cell_type": "markdown",
   "metadata": {},
   "source": [
    "In conclusion, `pandas` and its `DataFrame` offer a great many additions to the data structures, functions and methods of Python, in support of processing and analyzing data. This introduction only covers some of the basic ways in which `pandas` builds upon and differs from what we've seen so far. But don't be overwhelmed! The best way to learn is to dive in. Apply what you've learned here, consult the <a href=\"https://pandas.pydata.org/docs/\" target=\"_blank\" rel=\"noopener\">pandas documentation</a> (and the <a href=\"https://en.wikipedia.org/wiki/Internet\" target=\"_blank\" rel=\"noopener\">Internet</a>) &hellip; and read on!"
   ]
  }
 ],
 "metadata": {
  "kernelspec": {
   "display_name": "Python 3",
   "language": "python",
   "name": "python3"
  },
  "language_info": {
   "codemirror_mode": {
    "name": "ipython",
    "version": 3
   },
   "file_extension": ".py",
   "mimetype": "text/x-python",
   "name": "python",
   "nbconvert_exporter": "python",
   "pygments_lexer": "ipython3",
   "version": "3.7.3"
  }
 },
 "nbformat": 4,
 "nbformat_minor": 2
}

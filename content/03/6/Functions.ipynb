{
 "cells": [
  {
   "cell_type": "markdown",
   "metadata": {},
   "source": [
    "# Functions\n",
    "\n",
    "Python provides a great many built-in functions for processing and analyzing data; but, these are finite. Before long you'll find need to define your own functions.\n",
    "\n",
    "Functions essentially enable you to assign a name to an *expression* – (really to an entire block of code) – facilitating the re-use of complex code and the organization of code. And, as important, this allows for the evaluation of your code by another function, such that you may customize how another function operates!"
   ]
  },
  {
   "cell_type": "markdown",
   "metadata": {},
   "source": [
    "In our exploration of [list mappings](/03/3/3/Sequences.html#mappings), we considered the none-too-complex expression `2 * prime`, where `prime` referred to a prime number, and an element of an abridged list of these.\n",
    "\n",
    "We might encapsulate this expression by a function as follows."
   ]
  },
  {
   "cell_type": "code",
   "execution_count": 1,
   "metadata": {},
   "outputs": [],
   "source": [
    "def double(num):\n",
    "    return 2 * num"
   ]
  },
  {
   "cell_type": "markdown",
   "metadata": {},
   "source": [
    "As you can see, the syntax of a function definition requires:\n",
    "\n",
    "1. the keyword `def`\n",
    "1. followed by the name to assign to the function – in this case `double`\n",
    "1. in parentheses, names to assign to any values expected as input to the function, when it is called – in this case the single argument `num`\n",
    "1. a colon to finalize this first line\n",
    "\n",
    "With the above *signature* line complete, the *body* of the function consists of the expression(s) we'd like to be evaluated whenever the function is called.\n",
    "\n",
    "Note: the body of the function – every line of its code – must be indented. Conventionally, this indentation is by **four spaces**.\n",
    "\n",
    "Finally, the keyword `return` indicates that execution of the function should **stop** with that line. And, the value of whatever expression follows `return` will be the value of the function's *call expression*, and \"returned\" to where the function was called.\n",
    "\n",
    "The function signature and body are required; however, the `return` keyword is not required. Moreover, not all functions will have any particular value to return, and may therefore omit this."
   ]
  },
  {
   "cell_type": "markdown",
   "metadata": {},
   "source": [
    "Having defined `double`, it is now available to us to use no differently from a built-in function."
   ]
  },
  {
   "cell_type": "code",
   "execution_count": 2,
   "metadata": {},
   "outputs": [
    {
     "data": {
      "text/plain": [
       "4"
      ]
     },
     "execution_count": 2,
     "metadata": {},
     "output_type": "execute_result"
    }
   ],
   "source": [
    "double(2)"
   ]
  },
  {
   "cell_type": "markdown",
   "metadata": {},
   "source": [
    "This works no matter what input `num` we provide – that is, `num` is reassigned, and our expression reevaluated, every time."
   ]
  },
  {
   "cell_type": "code",
   "execution_count": 3,
   "metadata": {},
   "outputs": [
    {
     "data": {
      "text/plain": [
       "110"
      ]
     },
     "execution_count": 3,
     "metadata": {},
     "output_type": "execute_result"
    }
   ],
   "source": [
    "double(55)"
   ]
  },
  {
   "cell_type": "markdown",
   "metadata": {},
   "source": [
    "And though the name `num` is assigned *within* the body of the function, for evaluation by the expressions it contains, `num` *is not* assigned elsewhere."
   ]
  },
  {
   "cell_type": "code",
   "execution_count": 4,
   "metadata": {},
   "outputs": [
    {
     "ename": "NameError",
     "evalue": "name 'num' is not defined",
     "output_type": "error",
     "traceback": [
      "\u001b[0;31m---------------------------------------------------------------------------\u001b[0m",
      "\u001b[0;31mNameError\u001b[0m                                 Traceback (most recent call last)",
      "\u001b[0;32m<ipython-input-4-c774dac2b598>\u001b[0m in \u001b[0;36m<module>\u001b[0;34m\u001b[0m\n\u001b[0;32m----> 1\u001b[0;31m \u001b[0mnum\u001b[0m\u001b[0;34m\u001b[0m\u001b[0;34m\u001b[0m\u001b[0m\n\u001b[0m",
      "\u001b[0;31mNameError\u001b[0m: name 'num' is not defined"
     ]
    }
   ],
   "source": [
    "num"
   ]
  },
  {
   "cell_type": "markdown",
   "metadata": {},
   "source": [
    "To wit, if we were to assign `num`, it would be safe from reassignment by `double`."
   ]
  },
  {
   "cell_type": "code",
   "execution_count": 5,
   "metadata": {},
   "outputs": [
    {
     "data": {
      "text/plain": [
       "198"
      ]
     },
     "execution_count": 5,
     "metadata": {},
     "output_type": "execute_result"
    }
   ],
   "source": [
    "num = 2015\n",
    "\n",
    "double(99)"
   ]
  },
  {
   "cell_type": "code",
   "execution_count": 6,
   "metadata": {},
   "outputs": [
    {
     "data": {
      "text/plain": [
       "2015"
      ]
     },
     "execution_count": 6,
     "metadata": {},
     "output_type": "execute_result"
    }
   ],
   "source": [
    "num"
   ]
  },
  {
   "cell_type": "markdown",
   "metadata": {},
   "source": [
    "However trivial the code, being able to assign a callable name to it can be fantastically useful – for you and for anyone else who might review your code or collaborate with you.\n",
    "\n",
    "In Python it is also therefore conventional to assign descriptions to functions, in the form of \"documentation strings,\" or *docstrings*."
   ]
  },
  {
   "cell_type": "code",
   "execution_count": 7,
   "metadata": {},
   "outputs": [],
   "source": [
    "def double(num):\n",
    "    \"\"\"Multiply any number by `2`\n",
    "    \n",
    "    \"…Why?\" you might ask – it's FUNdamental!\n",
    "    \n",
    "    \"\"\"\n",
    "    return 2 * num"
   ]
  },
  {
   "cell_type": "markdown",
   "metadata": {},
   "source": [
    "Above we've redefined `double` with a docstring.\n",
    "\n",
    "Syntactically, a docstring is _any_ string which immediately follows the function definition's signature. Conventionally, rather than either a single-quoted or double-quoted string, a *triple-quoted* string is used – either `'''` or `\"\"\"` – (though technically you might consider the latter a *sextuple-quote*!). This is so that you needn't worry about using either a `'` or a `\"` within your text; and, as above, your triple-quoted string may span multiple lines.\n",
    "\n",
    "Docstrings are supremely useful for explaining the intent and features of a function. You might also have seen *comments* in Python code:\n",
    "\n",
    "    # The below computes a number's double\n",
    "\n",
    "And, comments serve a similar and complementary purpose. However, docstrings receive special handling in Python."
   ]
  },
  {
   "cell_type": "code",
   "execution_count": 8,
   "metadata": {},
   "outputs": [
    {
     "name": "stdout",
     "output_type": "stream",
     "text": [
      "Help on function double in module __main__:\n",
      "\n",
      "double(num)\n",
      "    Multiply any number by `2`\n",
      "    \n",
      "    \"…Why?\" you might ask – it's FUNdamental!\n",
      "\n"
     ]
    }
   ],
   "source": [
    "help(double)"
   ]
  },
  {
   "cell_type": "markdown",
   "metadata": {},
   "source": [
    "Above, Python reproduced our docstring as part of its \"help\" document for the function."
   ]
  },
  {
   "cell_type": "markdown",
   "metadata": {},
   "source": [
    "Of course, functions aren't just about reuse, organization and clarity. As we'll see in later chapters, they're hugely important in Data Science, for specifying arbitrary expressions as arguments to another function. This form is slightly less conventional in Python, but still supported and widely-used.\n",
    "\n",
    "We can now extend our toolkit of ways of mapping a sequence of input data to a desired output. Remember the list comprehension:"
   ]
  },
  {
   "cell_type": "code",
   "execution_count": 9,
   "metadata": {},
   "outputs": [
    {
     "data": {
      "text/plain": [
       "[4, 6, 10, 14, 22, 26, 34, 38, 46]"
      ]
     },
     "execution_count": 9,
     "metadata": {},
     "output_type": "execute_result"
    }
   ],
   "source": [
    "primes_abridged = [2, 3, 5, 7, 11, 13, 17, 19, 23]\n",
    "\n",
    "[2 * prime for prime in primes_abridged]"
   ]
  },
  {
   "cell_type": "markdown",
   "metadata": {},
   "source": [
    "While the list comprehension is useful, it is not always applicable. A *functional* way of achieving the same might involve the type `map`.\n",
    "\n",
    "`map` is built into Python, like `list`; however, unlike `list`, `map` doesn't have a syntax dedicated to its construction. Instead, it can be called by name – no different from a function – to construct maps."
   ]
  },
  {
   "cell_type": "code",
   "execution_count": 10,
   "metadata": {},
   "outputs": [],
   "source": [
    "doubled_map = map(double, primes_abridged)"
   ]
  },
  {
   "cell_type": "markdown",
   "metadata": {},
   "source": [
    "In fact, the *call signature* of `map` isn't *so* different from the syntax of the list comprehension. But, we've *factored* our expression `2 * prime` into our function under the name `double`; and, `map` handles the logic of calling `double` sequentially, for each element contained by `primes_abridged`.\n",
    "\n",
    "**However**: Depending on your version of Python, `doubled_map` might not yet be quite what you want!"
   ]
  },
  {
   "cell_type": "code",
   "execution_count": 11,
   "metadata": {},
   "outputs": [
    {
     "data": {
      "text/plain": [
       "<map at 0x7ae09853fb70>"
      ]
     },
     "execution_count": 11,
     "metadata": {},
     "output_type": "execute_result"
    }
   ],
   "source": [
    "doubled_map"
   ]
  },
  {
   "cell_type": "markdown",
   "metadata": {},
   "source": [
    "After all, it's not really a `list`."
   ]
  },
  {
   "cell_type": "code",
   "execution_count": 12,
   "metadata": {},
   "outputs": [
    {
     "data": {
      "text/plain": [
       "map"
      ]
     },
     "execution_count": 12,
     "metadata": {},
     "output_type": "execute_result"
    }
   ],
   "source": [
    "type(doubled_map)"
   ]
  },
  {
   "cell_type": "markdown",
   "metadata": {},
   "source": [
    "However, a `map` is *like* a sequence, (if an opaque one). **And** we're free to convert it into a list for our purposes here."
   ]
  },
  {
   "cell_type": "code",
   "execution_count": 13,
   "metadata": {},
   "outputs": [
    {
     "data": {
      "text/plain": [
       "[4, 6, 10, 14, 22, 26, 34, 38, 46]"
      ]
     },
     "execution_count": 13,
     "metadata": {},
     "output_type": "execute_result"
    }
   ],
   "source": [
    "primes_doubled = list(doubled_map)\n",
    "\n",
    "primes_doubled"
   ]
  },
  {
   "cell_type": "markdown",
   "metadata": {},
   "source": [
    "Therefore, our full functional equivalent of the list comprehension may be expressed as follows:"
   ]
  },
  {
   "cell_type": "code",
   "execution_count": 14,
   "metadata": {},
   "outputs": [
    {
     "data": {
      "text/plain": [
       "[4, 6, 10, 14, 22, 26, 34, 38, 46]"
      ]
     },
     "execution_count": 14,
     "metadata": {},
     "output_type": "execute_result"
    }
   ],
   "source": [
    "list(map(double, primes_abridged))"
   ]
  },
  {
   "cell_type": "markdown",
   "metadata": {},
   "source": [
    "While you'll find that the Data Science toolkit often doesn't look quite like the above, these are nonetheless its fundamentals. And you are now ready to proceed!"
   ]
  }
 ],
 "metadata": {
  "kernelspec": {
   "display_name": "Python 3",
   "language": "python",
   "name": "python3"
  },
  "language_info": {
   "codemirror_mode": {
    "name": "ipython",
    "version": 3
   },
   "file_extension": ".py",
   "mimetype": "text/x-python",
   "name": "python",
   "nbconvert_exporter": "python",
   "pygments_lexer": "ipython3",
   "version": "3.7.3"
  }
 },
 "nbformat": 4,
 "nbformat_minor": 2
}

{
 "cells": [
  {
   "cell_type": "markdown",
   "metadata": {},
   "source": [
    "# Sequences\n",
    "\n",
    "Modern computing would be inconceivable without the ability to interact with a *collection* of multiple values at once, and more specifically the ordered *sequence* of values. In Python, the most common of these data types is called the `list`.\n",
    "\n",
    "Lists are syntactically defined using commas to separate their constituent elements, and enclosed by square brackets."
   ]
  },
  {
   "cell_type": "code",
   "execution_count": 1,
   "metadata": {},
   "outputs": [
    {
     "data": {
      "text/plain": [
       "[2, 3, 5, 7, 11, 13, 17, 19, 23]"
      ]
     },
     "execution_count": 1,
     "metadata": {},
     "output_type": "execute_result"
    }
   ],
   "source": [
    "primes_abridged = [2, 3, 5, 7, 11, 13, 17, 19, 23]\n",
    "\n",
    "primes_abridged"
   ]
  },
  {
   "cell_type": "markdown",
   "metadata": {},
   "source": [
    "## Identifying elements\n",
    "Lists not only enable us to address a sequence of values at once. They also permit us to refer to their elements:"
   ]
  },
  {
   "cell_type": "code",
   "execution_count": 2,
   "metadata": {},
   "outputs": [
    {
     "data": {
      "text/plain": [
       "2"
      ]
     },
     "execution_count": 2,
     "metadata": {},
     "output_type": "execute_result"
    }
   ],
   "source": [
    "primes_abridged[0]"
   ]
  },
  {
   "cell_type": "code",
   "execution_count": 3,
   "metadata": {},
   "outputs": [
    {
     "data": {
      "text/plain": [
       "13"
      ]
     },
     "execution_count": 3,
     "metadata": {},
     "output_type": "execute_result"
    }
   ],
   "source": [
    "primes_abridged[5]"
   ]
  },
  {
   "cell_type": "markdown",
   "metadata": {},
   "source": [
    "Above, we retrieved individual elements from our list, by indicating the *index* of the element to retrieve – after the name assigned to the list, and with the index itself enclosed in square brackets.\n",
    "\n",
    "**Note!** We referred to the *first* element of our list using the index `0`, and to the *sixth* with the index `5`. In computer programming, you can think of this reference not as the \"number\" or the \"count\" of the element, but rather as an \"offset\" from the beginning of the list.\n",
    "\n",
    "Even the index, or offset, `-1` is valid, and this is the general way to refer to the last element of the list:"
   ]
  },
  {
   "cell_type": "code",
   "execution_count": 21,
   "metadata": {},
   "outputs": [
    {
     "data": {
      "text/plain": [
       "23"
      ]
     },
     "execution_count": 21,
     "metadata": {},
     "output_type": "execute_result"
    }
   ],
   "source": [
    "primes_abridged[-1]"
   ]
  },
  {
   "cell_type": "markdown",
   "metadata": {},
   "source": [
    "## Slices\n",
    "We can also retrieve a subset of the elements of our list, for example using the *slice*."
   ]
  },
  {
   "cell_type": "code",
   "execution_count": 18,
   "metadata": {},
   "outputs": [
    {
     "data": {
      "text/plain": [
       "[5, 7, 11]"
      ]
     },
     "execution_count": 18,
     "metadata": {},
     "output_type": "execute_result"
    }
   ],
   "source": [
    "primes_really_abridged = primes_abridged[2:5]\n",
    "\n",
    "primes_really_abridged"
   ]
  },
  {
   "cell_type": "markdown",
   "metadata": {},
   "source": [
    "In the syntax of the slice, we indicated that we would like to construct a new list, consisting of the elements at indices `2` through 4, ending *before* index `5`.\n",
    "\n",
    "A slice can also indicate a *step* other than `1`, such that some elements are stepped over, or skipped. And, a slice can omit either the element to start with, or the element to stop with, or both:"
   ]
  },
  {
   "cell_type": "code",
   "execution_count": 20,
   "metadata": {},
   "outputs": [
    {
     "data": {
      "text/plain": [
       "[2, 5, 11, 17, 23]"
      ]
     },
     "execution_count": 20,
     "metadata": {},
     "output_type": "execute_result"
    }
   ],
   "source": [
    "every_other_prime_abridged = primes_abridged[::2]\n",
    "\n",
    "every_other_prime_abridged"
   ]
  },
  {
   "cell_type": "markdown",
   "metadata": {},
   "source": [
    "## Aggregation\n",
    "Most important, lists enable us to instruct the computer to apply an operation to each element of the list in sequence.\n",
    "\n",
    "Most simply, we can count the number of elements in our list."
   ]
  },
  {
   "cell_type": "code",
   "execution_count": 22,
   "metadata": {},
   "outputs": [
    {
     "data": {
      "text/plain": [
       "9"
      ]
     },
     "execution_count": 22,
     "metadata": {},
     "output_type": "execute_result"
    }
   ],
   "source": [
    "len(primes_abridged)"
   ]
  },
  {
   "cell_type": "markdown",
   "metadata": {},
   "source": [
    "Better yet, we can `sum` the elements."
   ]
  },
  {
   "cell_type": "code",
   "execution_count": 23,
   "metadata": {},
   "outputs": [
    {
     "data": {
      "text/plain": [
       "100"
      ]
     },
     "execution_count": 23,
     "metadata": {},
     "output_type": "execute_result"
    }
   ],
   "source": [
    "sum(primes_abridged)"
   ]
  },
  {
   "cell_type": "markdown",
   "metadata": {},
   "source": [
    "Combining the two of these, we can compute an average or mean."
   ]
  },
  {
   "cell_type": "code",
   "execution_count": 24,
   "metadata": {},
   "outputs": [
    {
     "data": {
      "text/plain": [
       "11.11111111111111"
      ]
     },
     "execution_count": 24,
     "metadata": {},
     "output_type": "execute_result"
    }
   ],
   "source": [
    "sum(primes_abridged) / len(primes_abridged)"
   ]
  },
  {
   "cell_type": "markdown",
   "metadata": {},
   "source": [
    "## Mappings\n",
    "In the above, we computed *aggregates* of our data. But we can also process our data to make a new list, or *mapping*.\n",
    "\n",
    "Consider the following expression, which creates a (partial) mapping of `primes_abridged`, with its elements doubled:"
   ]
  },
  {
   "cell_type": "code",
   "execution_count": 11,
   "metadata": {},
   "outputs": [
    {
     "data": {
      "text/plain": [
       "[4, 6]"
      ]
     },
     "execution_count": 11,
     "metadata": {},
     "output_type": "execute_result"
    }
   ],
   "source": [
    "primes_doubled = [\n",
    "    2 * primes_abridged[0],\n",
    "    2 * primes_abridged[1],\n",
    "]\n",
    "\n",
    "primes_doubled"
   ]
  },
  {
   "cell_type": "markdown",
   "metadata": {},
   "source": [
    "The above form *works*, strictly speaking; but, it would require a lot of typing to process all the elements of `primes_abridged`! Moreover, an expression of the above form requires that there are a certain set number of elements – the expression will fail if there are too few elements, and it will ignore any more elements.\n",
    "\n",
    "We can instead write the following:"
   ]
  },
  {
   "cell_type": "code",
   "execution_count": 10,
   "metadata": {},
   "outputs": [
    {
     "data": {
      "text/plain": [
       "[4, 6, 10, 14, 22, 26, 34, 38, 46]"
      ]
     },
     "execution_count": 10,
     "metadata": {},
     "output_type": "execute_result"
    }
   ],
   "source": [
    "primes_doubled = []\n",
    "\n",
    "for prime in primes_abridged:\n",
    "    primes_doubled.append(2 * prime)\n",
    "    \n",
    "primes_doubled"
   ]
  },
  {
   "cell_type": "markdown",
   "metadata": {},
   "source": [
    "In the above cell:\n",
    "\n",
    "1. First, we initialized an *empty* list, and assigned to this the name, `primes_doubled`\n",
    "1. Then, using the control structure of the \"for loop,\" we considered the elements of `primes_abridged` sequentially, in each \"loop\" assigning one of its elements the name, `prime`\n",
    "1. Finally, in each loop, we multipled the value of the element by two, and added the value of this expression to the end of the list, `primes_doubled`, using the *list method* `append`. (More on *methods* later!)\n",
    "\n",
    "This is a fundamental pattern in the majority of programming languages; and, one which doesn't apply only to lists.\n",
    "\n",
    "That said, there are other ways to instruct the computer to do the same – and which you may find are either **more succinct** (linguistically), **more efficient** (computationally), or both.\n",
    "\n",
    "The most \"Pythonic\" way of producing `primes_doubled` involves the *list comprehension*."
   ]
  },
  {
   "cell_type": "code",
   "execution_count": 12,
   "metadata": {},
   "outputs": [
    {
     "data": {
      "text/plain": [
       "[4, 6, 10, 14, 22, 26, 34, 38, 46]"
      ]
     },
     "execution_count": 12,
     "metadata": {},
     "output_type": "execute_result"
    }
   ],
   "source": [
    "primes_doubled = [2 * prime for prime in primes_abridged]\n",
    "\n",
    "primes_doubled"
   ]
  },
  {
   "cell_type": "markdown",
   "metadata": {},
   "source": [
    "In the list comprehension, we again used the keywords `for` and `in`, in order to consider the elements of `primes_abridged` sequentially, under the name `prime`. But in this case, we were able to construct `primes_doubled` with a single, clear expression of our *mapping* from one set of data to another.\n",
    "\n",
    "Later, we'll explore other efficient methods of processing collections."
   ]
  },
  {
   "cell_type": "markdown",
   "metadata": {},
   "source": [
    "## Other lists\n",
    "So far we've only considered lists of numbers, but in fact a list element may refer to a value of any type."
   ]
  },
  {
   "cell_type": "code",
   "execution_count": 25,
   "metadata": {},
   "outputs": [],
   "source": [
    "planets = [\n",
    "    'Mercury',\n",
    "    'Venus',\n",
    "    'Earth',\n",
    "    'Mars',\n",
    "    'Jupiter',\n",
    "    'Saturn',\n",
    "    'Uranus',\n",
    "    'Neptune',\n",
    "]"
   ]
  },
  {
   "cell_type": "markdown",
   "metadata": {},
   "source": [
    "In the above, we've constructed a list of the `planets`, whose elements are, of course, strings.\n",
    "\n",
    "And, as with numbers and strings, lists also support \"addition,\" also known as *concatenation*.\n",
    "\n",
    "Depending on when you attended grade school, you may prefer the following planetary listing:"
   ]
  },
  {
   "cell_type": "code",
   "execution_count": 26,
   "metadata": {},
   "outputs": [
    {
     "data": {
      "text/plain": [
       "['Mercury',\n",
       " 'Venus',\n",
       " 'Earth',\n",
       " 'Mars',\n",
       " 'Jupiter',\n",
       " 'Saturn',\n",
       " 'Uranus',\n",
       " 'Neptune',\n",
       " 'Pluto']"
      ]
     },
     "execution_count": 26,
     "metadata": {},
     "output_type": "execute_result"
    }
   ],
   "source": [
    "planets + ['Pluto']"
   ]
  },
  {
   "cell_type": "markdown",
   "metadata": {},
   "source": [
    "But this needn't worry the International Astronomical Union! We didn't use `append()`, so the `planets` are safe."
   ]
  },
  {
   "cell_type": "code",
   "execution_count": 27,
   "metadata": {},
   "outputs": [
    {
     "data": {
      "text/plain": [
       "['Mercury', 'Venus', 'Earth', 'Mars', 'Jupiter', 'Saturn', 'Uranus', 'Neptune']"
      ]
     },
     "execution_count": 27,
     "metadata": {},
     "output_type": "execute_result"
    }
   ],
   "source": [
    "planets"
   ]
  },
  {
   "cell_type": "markdown",
   "metadata": {},
   "source": [
    "Lists can even contain other lists of data."
   ]
  },
  {
   "cell_type": "code",
   "execution_count": 30,
   "metadata": {},
   "outputs": [
    {
     "data": {
      "text/plain": [
       "[['Mercury', 36],\n",
       " ['Venus', 67.2],\n",
       " ['Earth', 93],\n",
       " ['Mars', 141.6],\n",
       " ['Jupiter', 483.6],\n",
       " ['Saturn', 886.7],\n",
       " ['Uranus', 1784.0],\n",
       " ['Neptune', 2794.4]]"
      ]
     },
     "execution_count": 30,
     "metadata": {},
     "output_type": "execute_result"
    }
   ],
   "source": [
    "# distances from the sun, millions of miles:\n",
    "planetary_distances = [\n",
    "    ['Mercury', 36],\n",
    "    ['Venus', 67.2],\n",
    "    ['Earth', 93],\n",
    "    ['Mars', 141.6],\n",
    "    ['Jupiter', 483.6],\n",
    "    ['Saturn', 886.7],\n",
    "    ['Uranus', 1_784.0],\n",
    "    ['Neptune', 2_794.4],\n",
    "]\n",
    "\n",
    "planetary_distances"
   ]
  },
  {
   "cell_type": "markdown",
   "metadata": {},
   "source": [
    "In the above collection, we've combined lists, strings, integers and floats!\n",
    "\n",
    "This kind of structure, if constructed *arbitrarily*, can be difficult to use; but, constructed consistently, this is the basis of computational data and data science."
   ]
  },
  {
   "cell_type": "markdown",
   "metadata": {},
   "source": [
    "But lists are not the only kind of useful collection available to us in Python, and we'll explore a few!"
   ]
  }
 ],
 "metadata": {
  "kernelspec": {
   "display_name": "Python 3",
   "language": "python",
   "name": "python3"
  },
  "language_info": {
   "codemirror_mode": {
    "name": "ipython",
    "version": 3
   },
   "file_extension": ".py",
   "mimetype": "text/x-python",
   "name": "python",
   "nbconvert_exporter": "python",
   "pygments_lexer": "ipython3",
   "version": "3.7.3"
  }
 },
 "nbformat": 4,
 "nbformat_minor": 2
}
